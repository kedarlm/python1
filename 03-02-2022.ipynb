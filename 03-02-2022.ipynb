{
 "cells": [
  {
   "cell_type": "code",
   "execution_count": null,
   "id": "d12ac63b",
   "metadata": {},
   "outputs": [],
   "source": [
    "# synatx for nested for loop\n",
    "for iter in range(start,end,step):\n",
    "    for iter in range(start,end,step):\n",
    "        block of statements"
   ]
  },
  {
   "cell_type": "code",
   "execution_count": 1,
   "id": "85086676",
   "metadata": {},
   "outputs": [
    {
     "name": "stdout",
     "output_type": "stream",
     "text": [
      "1 1 1 1 \n",
      "2 2 2 2 \n",
      "3 3 3 3 \n",
      "4 4 4 4 \n"
     ]
    }
   ],
   "source": [
    "#matrix format\n",
    "#- contain rows and coloums\n",
    "#- it has two dimensions***\n",
    "for i in range(1,5):\n",
    "    for j in range(1,5):\n",
    "        print(i,end=\" \")\n",
    "    print() "
   ]
  },
  {
   "cell_type": "code",
   "execution_count": 2,
   "id": "9940b1e0",
   "metadata": {},
   "outputs": [
    {
     "name": "stdout",
     "output_type": "stream",
     "text": [
      "* * * * \n",
      "* * * * \n",
      "* * * * \n",
      "* * * * \n"
     ]
    }
   ],
   "source": [
    "for i in range(1,5):\n",
    "    for j in range(1,5):\n",
    "        print(\"*\",end=\" \")\n",
    "    print() "
   ]
  },
  {
   "cell_type": "code",
   "execution_count": 3,
   "id": "328d604f",
   "metadata": {},
   "outputs": [
    {
     "name": "stdout",
     "output_type": "stream",
     "text": [
      "* \n",
      "* * \n",
      "* * * \n",
      "* * * * \n",
      "* * * * * \n"
     ]
    }
   ],
   "source": [
    "for i in range(1,6):\n",
    "    for j in range(1,i+1):\n",
    "        print(\"*\",end=\" \")\n",
    "    print()"
   ]
  },
  {
   "cell_type": "code",
   "execution_count": 4,
   "id": "88361572",
   "metadata": {},
   "outputs": [
    {
     "name": "stdout",
     "output_type": "stream",
     "text": [
      "* * * * * \n",
      "* * * * \n",
      "* * * \n",
      "* * \n",
      "* \n",
      "\n"
     ]
    }
   ],
   "source": [
    "for i in range(6,0,-1):\n",
    "    for j in range(1,i):\n",
    "        print(\"*\",end=\" \")\n",
    "    print()"
   ]
  },
  {
   "cell_type": "code",
   "execution_count": 5,
   "id": "df0b0a61",
   "metadata": {},
   "outputs": [
    {
     "name": "stdout",
     "output_type": "stream",
     "text": [
      "* \n",
      "* * \n",
      "* * * \n",
      "* * * * \n",
      "* * * * * \n",
      "* * * * * * \n",
      "* * * * * \n",
      "* * * * \n",
      "* * * \n",
      "* * \n",
      "* \n"
     ]
    }
   ],
   "source": [
    "for i in range(1,6):\n",
    "    for j in range(1,i+1):\n",
    "        print(\"*\",end=\" \")\n",
    "    print()\n",
    "for i in range(6,0,-1):\n",
    "    for j in range(1,i+1):\n",
    "        print(\"*\",end=\" \")\n",
    "    print()"
   ]
  },
  {
   "cell_type": "code",
   "execution_count": 6,
   "id": "b9d467eb",
   "metadata": {},
   "outputs": [
    {
     "name": "stdout",
     "output_type": "stream",
     "text": [
      " Enter first Value: 2\n",
      " Enter last Value: 20\n",
      "The Prime Numbers are: \n",
      "2\n",
      "3\n",
      "5\n",
      "7\n",
      "11\n",
      "13\n",
      "17\n",
      "19\n"
     ]
    }
   ],
   "source": [
    "#prime numbers between 2-19\n",
    "n = int(input (\" Enter first Value: \"))  \n",
    "m= int(input (\" Enter last Value: \"))  \n",
    "  \n",
    "print (\"The Prime Numbers are: \")  \n",
    "for j in range (n,m):  \n",
    "    if j > 1:  \n",
    "        for i in range (2, j):  \n",
    "            if (j % i) == 0:  \n",
    "                break  \n",
    "        else:  \n",
    "            print(j)  "
   ]
  },
  {
   "cell_type": "code",
   "execution_count": 8,
   "id": "c9575f0a",
   "metadata": {},
   "outputs": [
    {
     "name": "stdout",
     "output_type": "stream",
     "text": [
      "1 * 1 = 1\n",
      "1 * 2 = 2\n",
      "1 * 3 = 3\n",
      "1 * 4 = 4\n",
      "1 * 5 = 5\n",
      "1 * 6 = 6\n",
      "1 * 7 = 7\n",
      "1 * 8 = 8\n",
      "1 * 9 = 9\n",
      "1 * 10 = 10\n",
      "\n",
      "2 * 1 = 2\n",
      "2 * 2 = 4\n",
      "2 * 3 = 6\n",
      "2 * 4 = 8\n",
      "2 * 5 = 10\n",
      "2 * 6 = 12\n",
      "2 * 7 = 14\n",
      "2 * 8 = 16\n",
      "2 * 9 = 18\n",
      "2 * 10 = 20\n",
      "\n",
      "3 * 1 = 3\n",
      "3 * 2 = 6\n",
      "3 * 3 = 9\n",
      "3 * 4 = 12\n",
      "3 * 5 = 15\n",
      "3 * 6 = 18\n",
      "3 * 7 = 21\n",
      "3 * 8 = 24\n",
      "3 * 9 = 27\n",
      "3 * 10 = 30\n",
      "\n",
      "4 * 1 = 4\n",
      "4 * 2 = 8\n",
      "4 * 3 = 12\n",
      "4 * 4 = 16\n",
      "4 * 5 = 20\n",
      "4 * 6 = 24\n",
      "4 * 7 = 28\n",
      "4 * 8 = 32\n",
      "4 * 9 = 36\n",
      "4 * 10 = 40\n",
      "\n",
      "5 * 1 = 5\n",
      "5 * 2 = 10\n",
      "5 * 3 = 15\n",
      "5 * 4 = 20\n",
      "5 * 5 = 25\n",
      "5 * 6 = 30\n",
      "5 * 7 = 35\n",
      "5 * 8 = 40\n",
      "5 * 9 = 45\n",
      "5 * 10 = 50\n",
      "\n",
      "6 * 1 = 6\n",
      "6 * 2 = 12\n",
      "6 * 3 = 18\n",
      "6 * 4 = 24\n",
      "6 * 5 = 30\n",
      "6 * 6 = 36\n",
      "6 * 7 = 42\n",
      "6 * 8 = 48\n",
      "6 * 9 = 54\n",
      "6 * 10 = 60\n",
      "\n",
      "7 * 1 = 7\n",
      "7 * 2 = 14\n",
      "7 * 3 = 21\n",
      "7 * 4 = 28\n",
      "7 * 5 = 35\n",
      "7 * 6 = 42\n",
      "7 * 7 = 49\n",
      "7 * 8 = 56\n",
      "7 * 9 = 63\n",
      "7 * 10 = 70\n",
      "\n",
      "8 * 1 = 8\n",
      "8 * 2 = 16\n",
      "8 * 3 = 24\n",
      "8 * 4 = 32\n",
      "8 * 5 = 40\n",
      "8 * 6 = 48\n",
      "8 * 7 = 56\n",
      "8 * 8 = 64\n",
      "8 * 9 = 72\n",
      "8 * 10 = 80\n",
      "\n",
      "9 * 1 = 9\n",
      "9 * 2 = 18\n",
      "9 * 3 = 27\n",
      "9 * 4 = 36\n",
      "9 * 5 = 45\n",
      "9 * 6 = 54\n",
      "9 * 7 = 63\n",
      "9 * 8 = 72\n",
      "9 * 9 = 81\n",
      "9 * 10 = 90\n",
      "\n",
      "10 * 1 = 10\n",
      "10 * 2 = 20\n",
      "10 * 3 = 30\n",
      "10 * 4 = 40\n",
      "10 * 5 = 50\n",
      "10 * 6 = 60\n",
      "10 * 7 = 70\n",
      "10 * 8 = 80\n",
      "10 * 9 = 90\n",
      "10 * 10 = 100\n",
      "\n"
     ]
    }
   ],
   "source": [
    "#1-10 tables\n",
    "n=1\n",
    "for k in range(1,11):\n",
    "    for j in range(1,11):\n",
    "        print(n,\"*\",j,\"=\",n*j)\n",
    "    print()\n",
    "    n=n+1"
   ]
  },
  {
   "cell_type": "markdown",
   "id": "06a90e73",
   "metadata": {},
   "source": [
    "## While loop\n",
    "- its execute the statements until the condition false\n",
    "- in while we dont use range\n",
    "- execute faster than for loop\n",
    "- user incrementation"
   ]
  },
  {
   "cell_type": "code",
   "execution_count": null,
   "id": "6c3ae82a",
   "metadata": {},
   "outputs": [],
   "source": [
    "#while syntax\n",
    "initialization\n",
    "while condition:\n",
    "    block of statements\n",
    "    incerement/decrement"
   ]
  },
  {
   "cell_type": "code",
   "execution_count": 9,
   "id": "e8a11c76",
   "metadata": {},
   "outputs": [
    {
     "name": "stdout",
     "output_type": "stream",
     "text": [
      "hii students\n",
      "hii students\n",
      "hii students\n",
      "hii students\n",
      "hii students\n"
     ]
    }
   ],
   "source": [
    "#example program\n",
    "n=1\n",
    "while n<6:\n",
    "    print(\"hii students\")\n",
    "    n=n+1"
   ]
  },
  {
   "cell_type": "code",
   "execution_count": 10,
   "id": "656680f4",
   "metadata": {},
   "outputs": [
    {
     "name": "stdout",
     "output_type": "stream",
     "text": [
      "10 9 8 7 6 5 4 3 2 1 "
     ]
    }
   ],
   "source": [
    "#print decending order\n",
    "n=10\n",
    "while n>0:\n",
    "    print(n,end=\" \")\n",
    "    n=n-1"
   ]
  },
  {
   "cell_type": "code",
   "execution_count": 11,
   "id": "c8013ef9",
   "metadata": {},
   "outputs": [
    {
     "name": "stdout",
     "output_type": "stream",
     "text": [
      "enter the number12121\n",
      "\n",
      " 5\n"
     ]
    }
   ],
   "source": [
    "#print the given digit count\n",
    "s=int(input(\"enter the number\"))\n",
    "c=0\n",
    "while (s!=0):\n",
    "    c=c+1\n",
    "    s=s//10\n",
    "print(\"\\n\",c)    "
   ]
  },
  {
   "cell_type": "code",
   "execution_count": 12,
   "id": "8cee3a30",
   "metadata": {},
   "outputs": [
    {
     "name": "stdout",
     "output_type": "stream",
     "text": [
      "232\n",
      "the number is palindrome\n"
     ]
    }
   ],
   "source": [
    "#given  number is palindrome or not \n",
    "n=int(input())\n",
    "s=0\n",
    "p=n\n",
    "while(n!=0):\n",
    "    r=n%10\n",
    "    s=(s*10)+r\n",
    "    n=n//10\n",
    "if(s==p):\n",
    "    print(\"the number is palindrome\")\n",
    "else:\n",
    "    print(\"not palindrome\")"
   ]
  },
  {
   "cell_type": "code",
   "execution_count": null,
   "id": "6ace5448",
   "metadata": {},
   "outputs": [],
   "source": [
    "#nested while\n",
    "synatx:\n",
    "    initialization\n",
    "    while condition:\n",
    "        block of statements\n",
    "        incr/decre\n",
    "        while conidtion 2 :\n",
    "            block of statements\n",
    "            incre/decre"
   ]
  },
  {
   "cell_type": "code",
   "execution_count": 13,
   "id": "0f852141",
   "metadata": {},
   "outputs": [
    {
     "name": "stdout",
     "output_type": "stream",
     "text": [
      "1 * 1 = 1\n",
      "1 * 2 = 2\n",
      "1 * 3 = 3\n",
      "1 * 4 = 4\n",
      "1 * 5 = 5\n",
      "1 * 6 = 6\n",
      "1 * 7 = 7\n",
      "1 * 8 = 8\n",
      "1 * 9 = 9\n",
      "1 * 10 = 10\n",
      "\n",
      "2 * 1 = 2\n",
      "2 * 2 = 4\n",
      "2 * 3 = 6\n",
      "2 * 4 = 8\n",
      "2 * 5 = 10\n",
      "2 * 6 = 12\n",
      "2 * 7 = 14\n",
      "2 * 8 = 16\n",
      "2 * 9 = 18\n",
      "2 * 10 = 20\n",
      "\n",
      "3 * 1 = 3\n",
      "3 * 2 = 6\n",
      "3 * 3 = 9\n",
      "3 * 4 = 12\n",
      "3 * 5 = 15\n",
      "3 * 6 = 18\n",
      "3 * 7 = 21\n",
      "3 * 8 = 24\n",
      "3 * 9 = 27\n",
      "3 * 10 = 30\n",
      "\n",
      "4 * 1 = 4\n",
      "4 * 2 = 8\n",
      "4 * 3 = 12\n",
      "4 * 4 = 16\n",
      "4 * 5 = 20\n",
      "4 * 6 = 24\n",
      "4 * 7 = 28\n",
      "4 * 8 = 32\n",
      "4 * 9 = 36\n",
      "4 * 10 = 40\n",
      "\n",
      "5 * 1 = 5\n",
      "5 * 2 = 10\n",
      "5 * 3 = 15\n",
      "5 * 4 = 20\n",
      "5 * 5 = 25\n",
      "5 * 6 = 30\n",
      "5 * 7 = 35\n",
      "5 * 8 = 40\n",
      "5 * 9 = 45\n",
      "5 * 10 = 50\n",
      "\n",
      "6 * 1 = 6\n",
      "6 * 2 = 12\n",
      "6 * 3 = 18\n",
      "6 * 4 = 24\n",
      "6 * 5 = 30\n",
      "6 * 6 = 36\n",
      "6 * 7 = 42\n",
      "6 * 8 = 48\n",
      "6 * 9 = 54\n",
      "6 * 10 = 60\n",
      "\n",
      "7 * 1 = 7\n",
      "7 * 2 = 14\n",
      "7 * 3 = 21\n",
      "7 * 4 = 28\n",
      "7 * 5 = 35\n",
      "7 * 6 = 42\n",
      "7 * 7 = 49\n",
      "7 * 8 = 56\n",
      "7 * 9 = 63\n",
      "7 * 10 = 70\n",
      "\n",
      "8 * 1 = 8\n",
      "8 * 2 = 16\n",
      "8 * 3 = 24\n",
      "8 * 4 = 32\n",
      "8 * 5 = 40\n",
      "8 * 6 = 48\n",
      "8 * 7 = 56\n",
      "8 * 8 = 64\n",
      "8 * 9 = 72\n",
      "8 * 10 = 80\n",
      "\n",
      "9 * 1 = 9\n",
      "9 * 2 = 18\n",
      "9 * 3 = 27\n",
      "9 * 4 = 36\n",
      "9 * 5 = 45\n",
      "9 * 6 = 54\n",
      "9 * 7 = 63\n",
      "9 * 8 = 72\n",
      "9 * 9 = 81\n",
      "9 * 10 = 90\n",
      "\n",
      "10 * 1 = 10\n",
      "10 * 2 = 20\n",
      "10 * 3 = 30\n",
      "10 * 4 = 40\n",
      "10 * 5 = 50\n",
      "10 * 6 = 60\n",
      "10 * 7 = 70\n",
      "10 * 8 = 80\n",
      "10 * 9 = 90\n",
      "10 * 10 = 100\n",
      "\n"
     ]
    }
   ],
   "source": [
    "#example for nested while loop\n",
    "n=1\n",
    "\n",
    "while n<11:\n",
    "    j=1\n",
    "    while j<11:\n",
    "        print(n,\"*\",j,\"=\",n*j)\n",
    "        j+=1\n",
    "    print()\n",
    "    n+=1"
   ]
  },
  {
   "cell_type": "markdown",
   "id": "c8bab6cc",
   "metadata": {},
   "source": [
    "## jump statements\n",
    "- we also called as unconditional jumps\n",
    "    - break\n",
    "    - continue\n",
    "    - pass"
   ]
  },
  {
   "cell_type": "markdown",
   "id": "01c762a7",
   "metadata": {},
   "source": [
    "### Break\n",
    "- it terminates the current loop\n",
    "- Break is a keyword\n",
    "     "
   ]
  },
  {
   "cell_type": "code",
   "execution_count": 14,
   "id": "715d891a",
   "metadata": {},
   "outputs": [
    {
     "name": "stdout",
     "output_type": "stream",
     "text": [
      "p\n",
      "y\n",
      "t\n",
      "h\n"
     ]
    }
   ],
   "source": [
    "#example program\n",
    "for i in \"python\":\n",
    "    if i=='o':\n",
    "        break\n",
    "    print(i)"
   ]
  },
  {
   "cell_type": "code",
   "execution_count": 2,
   "id": "6ad62a66",
   "metadata": {},
   "outputs": [
    {
     "name": "stdout",
     "output_type": "stream",
     "text": [
      "2\n",
      "3\n",
      "4\n",
      "5\n"
     ]
    }
   ],
   "source": [
    "#example program\n",
    "i=1\n",
    "while(i<10):\n",
    "    i=i+1\n",
    "    if i==6:\n",
    "        break\n",
    "    print(i)"
   ]
  },
  {
   "cell_type": "markdown",
   "id": "05830d4a",
   "metadata": {},
   "source": [
    "### continue\n",
    "- it skips only current iteration and continue the next iteration \n",
    "- continue is also a keyword"
   ]
  },
  {
   "cell_type": "code",
   "execution_count": 4,
   "id": "525c3719",
   "metadata": {},
   "outputs": [
    {
     "name": "stdout",
     "output_type": "stream",
     "text": [
      "0\n",
      "1\n",
      "2\n",
      "3\n",
      "4\n",
      "5\n",
      "6\n",
      "7\n",
      "8\n",
      "skip\n",
      "10\n",
      "11\n",
      "12\n",
      "13\n",
      "14\n",
      "15\n",
      "16\n",
      "17\n",
      "18\n",
      "19\n"
     ]
    }
   ],
   "source": [
    "#example program\n",
    "for i in range(20):\n",
    "    if i==9:\n",
    "        print(\"skip\")\n",
    "        continue\n",
    "    print(i)"
   ]
  },
  {
   "cell_type": "code",
   "execution_count": 6,
   "id": "1ede390a",
   "metadata": {},
   "outputs": [
    {
     "name": "stdout",
     "output_type": "stream",
     "text": [
      "1\n",
      "3\n",
      "5\n",
      "7\n",
      "9\n"
     ]
    }
   ],
   "source": [
    "#print odd numbers using even number condition\n",
    "for i in  range(10):\n",
    "    if(i%2==0):\n",
    "        continue\n",
    "    print(i)"
   ]
  },
  {
   "cell_type": "markdown",
   "id": "46b83b36",
   "metadata": {},
   "source": [
    "### pass\n",
    "- it is a keyworld\n",
    "- when we need the condition scientifically correct need to change another operation \n",
    "- it is a NULL operation\n",
    "- it is used to create empty classes also"
   ]
  },
  {
   "cell_type": "code",
   "execution_count": 8,
   "id": "fde54c96",
   "metadata": {},
   "outputs": [
    {
     "name": "stdout",
     "output_type": "stream",
     "text": [
      "p\n",
      "y\n",
      "t\n",
      "pass executed\n",
      "h\n",
      "o\n",
      "n\n"
     ]
    }
   ],
   "source": [
    "#example program\n",
    "s=\"python\"\n",
    "for i in s:\n",
    "    if i=='h':\n",
    "        pass\n",
    "        print(\"pass executed\")\n",
    "    print(i)"
   ]
  },
  {
   "cell_type": "markdown",
   "id": "a69f298a",
   "metadata": {},
   "source": [
    "# strings\n",
    "- it is a group of characters\n",
    "- it is a derived data type\n",
    "- it is a immutable means we can't change the values \n",
    "- all strinsg return  a new value"
   ]
  },
  {
   "cell_type": "code",
   "execution_count": 17,
   "id": "bfb28f23",
   "metadata": {},
   "outputs": [
    {
     "name": "stdout",
     "output_type": "stream",
     "text": [
      "<class 'str'>\n",
      "10\n",
      "min= a\n",
      "max= r\n",
      "['a', 'a', 'd', 'd', 'e', 'h', 'i', 'k', 'n', 'r']\n"
     ]
    }
   ],
   "source": [
    "#example program for string\n",
    "j=\"kedarinadh\"\n",
    "print(type(j))\n",
    "print(len(j))\n",
    "print(\"min=\",min(j))\n",
    "print(\"max=\",max(j))#it cannot show in numerically\n",
    "print(sorted(j))\n",
    "#print(sum(j))#we cannot perfoem add operation one string"
   ]
  },
  {
   "cell_type": "code",
   "execution_count": 18,
   "id": "751a26e1",
   "metadata": {},
   "outputs": [
    {
     "name": "stdout",
     "output_type": "stream",
     "text": [
      "pythonworkshop\n",
      "python workshop\n"
     ]
    }
   ],
   "source": [
    "j=\"python\"\n",
    "k=\"workshop\"\n",
    "print(j+k)\n",
    "print(j,k)"
   ]
  },
  {
   "cell_type": "code",
   "execution_count": 33,
   "id": "890d974e",
   "metadata": {},
   "outputs": [
    {
     "name": "stdout",
     "output_type": "stream",
     "text": [
      "10\n",
      "k\n",
      "a\n",
      "h\n",
      "kedarinadh\n",
      "hdaniradek\n",
      "darina\n"
     ]
    }
   ],
   "source": [
    "#slicing syntax:: (start:end:step)\n",
    "# positive indexing(left to right)\n",
    "#negative indexing(right to left)\n",
    "j=\"kedarinadh\"\n",
    "print(len(j))\n",
    "print(j[0])\n",
    "print(j[7])\n",
    "print(j[-1])\n",
    "print(j[::])\n",
    "print(j[::-1])\n",
    "print(j[2:8])"
   ]
  },
  {
   "cell_type": "code",
   "execution_count": 1,
   "id": "697d9d16",
   "metadata": {},
   "outputs": [
    {
     "data": {
      "text/plain": [
       "['__add__',\n",
       " '__class__',\n",
       " '__contains__',\n",
       " '__delattr__',\n",
       " '__dir__',\n",
       " '__doc__',\n",
       " '__eq__',\n",
       " '__format__',\n",
       " '__ge__',\n",
       " '__getattribute__',\n",
       " '__getitem__',\n",
       " '__getnewargs__',\n",
       " '__gt__',\n",
       " '__hash__',\n",
       " '__init__',\n",
       " '__init_subclass__',\n",
       " '__iter__',\n",
       " '__le__',\n",
       " '__len__',\n",
       " '__lt__',\n",
       " '__mod__',\n",
       " '__mul__',\n",
       " '__ne__',\n",
       " '__new__',\n",
       " '__reduce__',\n",
       " '__reduce_ex__',\n",
       " '__repr__',\n",
       " '__rmod__',\n",
       " '__rmul__',\n",
       " '__setattr__',\n",
       " '__sizeof__',\n",
       " '__str__',\n",
       " '__subclasshook__',\n",
       " 'capitalize',\n",
       " 'casefold',\n",
       " 'center',\n",
       " 'count',\n",
       " 'encode',\n",
       " 'endswith',\n",
       " 'expandtabs',\n",
       " 'find',\n",
       " 'format',\n",
       " 'format_map',\n",
       " 'index',\n",
       " 'isalnum',\n",
       " 'isalpha',\n",
       " 'isascii',\n",
       " 'isdecimal',\n",
       " 'isdigit',\n",
       " 'isidentifier',\n",
       " 'islower',\n",
       " 'isnumeric',\n",
       " 'isprintable',\n",
       " 'isspace',\n",
       " 'istitle',\n",
       " 'isupper',\n",
       " 'join',\n",
       " 'ljust',\n",
       " 'lower',\n",
       " 'lstrip',\n",
       " 'maketrans',\n",
       " 'partition',\n",
       " 'removeprefix',\n",
       " 'removesuffix',\n",
       " 'replace',\n",
       " 'rfind',\n",
       " 'rindex',\n",
       " 'rjust',\n",
       " 'rpartition',\n",
       " 'rsplit',\n",
       " 'rstrip',\n",
       " 'split',\n",
       " 'splitlines',\n",
       " 'startswith',\n",
       " 'strip',\n",
       " 'swapcase',\n",
       " 'title',\n",
       " 'translate',\n",
       " 'upper',\n",
       " 'zfill']"
      ]
     },
     "execution_count": 1,
     "metadata": {},
     "output_type": "execute_result"
    }
   ],
   "source": [
    "dir(str)"
   ]
  },
  {
   "cell_type": "code",
   "execution_count": 2,
   "id": "a9ad2b29",
   "metadata": {},
   "outputs": [],
   "source": [
    "j=\"kedarinadh\"\n",
    "k=\"vsavi college 4 \"\n",
    "l=\"Egineering cse branch\"\n",
    "add=\"\"\"iam from tpg \"\"\"\n",
    "jk=143215246134"
   ]
  },
  {
   "cell_type": "code",
   "execution_count": 3,
   "id": "1d944ba6",
   "metadata": {},
   "outputs": [
    {
     "name": "stdout",
     "output_type": "stream",
     "text": [
      "kedarinadh\n",
      "iam from tpg \n",
      "kedarinadh\n",
      "KEDARINADH\n",
      "['Egineering', 'cse', 'branch']\n",
      "egineering cse branch\n",
      "Egineering cse branch\n",
      "True\n",
      "False\n",
      "eGINEERING CSE BRANCH\n",
      "False\n",
      "1\n",
      "False\n",
      "False\n",
      "vsavi college 4\n",
      "['vsavi', 'college', '4']\n"
     ]
    },
    {
     "data": {
      "text/plain": [
       "['kedarinadh']"
      ]
     },
     "execution_count": 3,
     "metadata": {},
     "output_type": "execute_result"
    }
   ],
   "source": [
    "print(j)\n",
    "print(add)\n",
    "print(j.lower())\n",
    "print(j.upper())\n",
    "print(l.split())#its seppareate the word int form of list or array\n",
    "print(l.casefold())\n",
    "print(l.format())\n",
    "print(add.islower())#it checks the give data is in lower case opr not if it is in lower case then it displays true else it displays false\n",
    "print(l.isupper())#it checks the condition is in upper case or not if it is upper case then the output will be true else it displays false\n",
    "print(l.swapcase())#it swaps upper to lower and lower to upper\n",
    "print(add.isalnum())#it checks the data is numbers or not if number displays true else displays false\n",
    "print(j.count(j))\n",
    "print(j.isdecimal())\n",
    "print(k.isalpha())\n",
    "print(k.rstrip())\n",
    "print(k.rsplit())\n",
    "j.split(add)"
   ]
  },
  {
   "cell_type": "code",
   "execution_count": 1,
   "id": "da26d75f",
   "metadata": {},
   "outputs": [
    {
     "name": "stdout",
     "output_type": "stream",
     "text": [
      " kedARiNaDh\n"
     ]
    }
   ],
   "source": [
    "#swapping the case lower to upper\n",
    "j=\"KEDarInAdH\"\n",
    "k=\" \"\n",
    "for i in j:\n",
    "    if i.islower():\n",
    "        k +=i.upper()\n",
    "    else:\n",
    "        k +=i.lower()\n",
    "print(k)"
   ]
  },
  {
   "cell_type": "code",
   "execution_count": 13,
   "id": "59c53881",
   "metadata": {},
   "outputs": [
    {
     "name": "stdout",
     "output_type": "stream",
     "text": [
      "0\n",
      "00000vasavi college autonuomus\n",
      "25\n"
     ]
    },
    {
     "data": {
      "text/plain": [
       "True"
      ]
     },
     "execution_count": 13,
     "metadata": {},
     "output_type": "execute_result"
    }
   ],
   "source": [
    "s=\"vasavi college autonuomus\"\n",
    "print(s.index(s))\n",
    "print(s.zfill(30))\n",
    "print(len(s))\n",
    "s.startswith(\"va\")"
   ]
  },
  {
   "cell_type": "markdown",
   "id": "5ba3c7ff",
   "metadata": {},
   "source": [
    "# Data structures \n",
    "- list   \n",
    "    - list is mutable(we can modify ,change,delete the values)\n",
    "    - prepresented with squarebraces \"[ ]\"\n",
    "    - slicing ,string concepts\n",
    "- tuple\n",
    "- Set \n",
    "- dictonaries\n",
    "    - dt are two types:\n",
    "        - immutable:\n",
    "            - we can't chnage values  \n",
    "                ex: string and tuple\n",
    "        + mutable:\n",
    "            - we can modifyaned change the values  \n",
    "               ex:lis and Dictonaries\n",
    "            "
   ]
  },
  {
   "cell_type": "code",
   "execution_count": 3,
   "id": "449be628",
   "metadata": {},
   "outputs": [
    {
     "name": "stdout",
     "output_type": "stream",
     "text": [
      "<class 'list'>\n",
      "<class 'tuple'>\n",
      "<class 'set'>\n",
      "length of list is 4\n",
      "length of tuple is 2\n",
      "length of set is 2\n"
     ]
    }
   ],
   "source": [
    "s=[1,2,5,4]#the entered in this[ ] brackets   we dclare as list\n",
    "j=(7,8)#the entered in this ( ) brackets  we declare as tuple \n",
    "k={78,87} #the data entered in this { } brackets we declare as set\n",
    "print(type(s))\n",
    "print(type(j))\n",
    "print(type(k))\n",
    "print(\"length of list is\",len(s))\n",
    "print(\"length of tuple is\",len(j))\n",
    "print(\"length of set is\",len(k))"
   ]
  },
  {
   "cell_type": "code",
   "execution_count": 15,
   "id": "a0fa545f",
   "metadata": {},
   "outputs": [
    {
     "name": "stdout",
     "output_type": "stream",
     "text": [
      "9\n",
      "9\n",
      "1\n"
     ]
    }
   ],
   "source": [
    "n=[1,2,3,4,5,6,7,8,9]\n",
    "print(len(n))\n",
    "print(max(n))\n",
    "print(min(n))"
   ]
  },
  {
   "cell_type": "code",
   "execution_count": 17,
   "id": "92f955f4",
   "metadata": {},
   "outputs": [
    {
     "data": {
      "text/plain": [
       "[1, 2, 3, 4, 5, 1, 2, 3, 4, 5, 1, 2, 3, 4, 5]"
      ]
     },
     "execution_count": 17,
     "metadata": {},
     "output_type": "execute_result"
    }
   ],
   "source": [
    "a=[1,2,3,4,5]\n",
    "b=[6,7,8,9]\n",
    "a+b#concantination"
   ]
  },
  {
   "cell_type": "code",
   "execution_count": 18,
   "id": "b37e487f",
   "metadata": {},
   "outputs": [
    {
     "data": {
      "text/plain": [
       "[1, 2, 3, 4, 5, 1, 2, 3, 4, 5, 1, 2, 3, 4, 5]"
      ]
     },
     "execution_count": 18,
     "metadata": {},
     "output_type": "execute_result"
    }
   ],
   "source": [
    "a*3#repetation'"
   ]
  },
  {
   "cell_type": "code",
   "execution_count": 20,
   "id": "e9481ee0",
   "metadata": {},
   "outputs": [
    {
     "name": "stderr",
     "output_type": "stream",
     "text": [
      "<>:1: SyntaxWarning: \"is not\" with a literal. Did you mean \"!=\"?\n",
      "<>:1: SyntaxWarning: \"is not\" with a literal. Did you mean \"!=\"?\n",
      "C:\\Users\\admin\\AppData\\Local\\Temp/ipykernel_1296/4052644343.py:1: SyntaxWarning: \"is not\" with a literal. Did you mean \"!=\"?\n",
      "  '2' is not  a\n"
     ]
    },
    {
     "data": {
      "text/plain": [
       "True"
      ]
     },
     "execution_count": 20,
     "metadata": {},
     "output_type": "execute_result"
    }
   ],
   "source": [
    "'2' is not  a"
   ]
  },
  {
   "cell_type": "code",
   "execution_count": 22,
   "id": "ab068994",
   "metadata": {},
   "outputs": [],
   "source": [
    "names=['kedar','mani','gangadhar','sharon','harresh']"
   ]
  },
  {
   "cell_type": "code",
   "execution_count": 24,
   "id": "6656dedd",
   "metadata": {},
   "outputs": [
    {
     "data": {
      "text/plain": [
       "'kedar'"
      ]
     },
     "execution_count": 24,
     "metadata": {},
     "output_type": "execute_result"
    }
   ],
   "source": [
    "names[0]"
   ]
  },
  {
   "cell_type": "code",
   "execution_count": 26,
   "id": "3dd89707",
   "metadata": {},
   "outputs": [
    {
     "data": {
      "text/plain": [
       "['kedar', 'mani', 'gangadhar']"
      ]
     },
     "execution_count": 26,
     "metadata": {},
     "output_type": "execute_result"
    }
   ],
   "source": [
    "names[:3]"
   ]
  },
  {
   "cell_type": "code",
   "execution_count": 28,
   "id": "9e427c3b",
   "metadata": {},
   "outputs": [
    {
     "data": {
      "text/plain": [
       "'p'"
      ]
     },
     "execution_count": 28,
     "metadata": {},
     "output_type": "execute_result"
    }
   ],
   "source": [
    "s=\"power star\"\n",
    "s[0]"
   ]
  },
  {
   "cell_type": "code",
   "execution_count": 31,
   "id": "5137e75b",
   "metadata": {},
   "outputs": [
    {
     "name": "stdout",
     "output_type": "stream",
     "text": [
      "power \n"
     ]
    }
   ],
   "source": [
    "print(s[:6])"
   ]
  },
  {
   "cell_type": "code",
   "execution_count": null,
   "id": "22c4ce97",
   "metadata": {},
   "outputs": [],
   "source": []
  }
 ],
 "metadata": {
  "kernelspec": {
   "display_name": "Python 3 (ipykernel)",
   "language": "python",
   "name": "python3"
  },
  "language_info": {
   "codemirror_mode": {
    "name": "ipython",
    "version": 3
   },
   "file_extension": ".py",
   "mimetype": "text/x-python",
   "name": "python",
   "nbconvert_exporter": "python",
   "pygments_lexer": "ipython3",
   "version": "3.9.7"
  }
 },
 "nbformat": 4,
 "nbformat_minor": 5
}
