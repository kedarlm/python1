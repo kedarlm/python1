{
 "cells": [
  {
   "cell_type": "markdown",
   "id": "3a6fc7dd",
   "metadata": {},
   "source": [
    "# welcome to vasavi college\n",
    "## welcome \n",
    "### welcome\n",
    "#### welcome\n",
    "##### welcome\n",
    "###### welcome "
   ]
  },
  {
   "cell_type": "code",
   "execution_count": 1,
   "id": "47b692b1",
   "metadata": {},
   "outputs": [
    {
     "name": "stdout",
     "output_type": "stream",
     "text": [
      "welcome to vasavi college\n"
     ]
    }
   ],
   "source": [
    "print(\"welcome to vasavi college\")\n"
   ]
  },
  {
   "cell_type": "markdown",
   "id": "1a611b3d",
   "metadata": {},
   "source": [
    "**kedar**\n"
   ]
  },
  {
   "cell_type": "markdown",
   "id": "3244c8f4",
   "metadata": {},
   "source": [
    "*kedar*"
   ]
  },
  {
   "cell_type": "markdown",
   "id": "10249304",
   "metadata": {},
   "source": [
    "***kedar***\n"
   ]
  },
  {
   "cell_type": "markdown",
   "id": "e58edeb1",
   "metadata": {},
   "source": [
    "i am kedar first line  \n",
    "i am studying b tech \n",
    "my native palce is tadepalligudem\n"
   ]
  },
  {
   "cell_type": "markdown",
   "id": "100ec680",
   "metadata": {},
   "source": [
    "iam kedar  \n",
    "i am btech  \n",
    "studeent in vasavi college  \n"
   ]
  },
  {
   "cell_type": "markdown",
   "id": "e0931ce6",
   "metadata": {},
   "source": [
    "eihfoewhoruy  egwfew8t ig ige87r h udsuyefyeryuh uuwfrr 87 fidjshfjkhfp7rey euwry9y 9eu9ry e9ry9y9y9ery49yrfehu uyeuyruewy9y9 uehuferuyeuwy yruytfuyuy i   uyuirewyuy9ry 9uyerwuy 9wu   yrweuyuey9   ueuwyr7ye7yeryweyr7ey eyw7ryew7ryqhoyewr9y euwyrewyr794r  y4ewry9weyr9ru 9ye9wyre9w  e9yr9ey9rfye9 9  9e8y9rye9wy    eywryew98y4yer9y ye 7yre  yerworyew98yrheyiuhej  7eyr7yew97y 8 7eywr7yew79y9y9fuidwhfjkhwiudsgfi  uieriuetewiutriuew ui uyeuireiowu iegiu    \n"
   ]
  },
  {
   "cell_type": "markdown",
   "id": "433f5368",
   "metadata": {},
   "source": [
    "### unorder list  \n",
    "+ m  \n",
    "- mm  \n",
    "* mmm  \n",
    ". mmmm  \n",
    "    + mm  \n",
    "    * mmm  \n",
    "        /* mmmm\n",
    "          "
   ]
  },
  {
   "cell_type": "markdown",
   "id": "26103e88",
   "metadata": {},
   "source": [
    "### order list  \n",
    "\n",
    "1. kkk  \n",
    "2. kkkkk   \n",
    "3. kjkjkj  \n",
    "4. jkjkjkjk  \n",
    "    1.jkjkjk  \n",
    "    2.klklkl  \n",
    "        1.lkjh  \n",
    "        2.lkjihygt\n",
    "        "
   ]
  },
  {
   "cell_type": "markdown",
   "id": "bd10b5a8",
   "metadata": {},
   "source": [
    "## comments \n",
    "- user readable information or data   \n",
    "- comments doesn't excecute  \n",
    "- comments it is mentioned in single #   \n",
    "- for mutliple comments mention in the between \"\"\" here we can write data\"\"\""
   ]
  },
  {
   "cell_type": "markdown",
   "id": "2f0e23e0",
   "metadata": {},
   "source": [
    "### variables\n",
    "- which is used to store data  \n",
    "- variable start with alphabets and underscore(_)  \n",
    "- could not start with numbers special characters (%&^!) and keywords  \n"
   ]
  },
  {
   "cell_type": "code",
   "execution_count": 4,
   "id": "8f187098",
   "metadata": {},
   "outputs": [
    {
     "data": {
      "text/plain": [
       "7"
      ]
     },
     "execution_count": 4,
     "metadata": {},
     "output_type": "execute_result"
    }
   ],
   "source": [
    "a=7  \n",
    "a"
   ]
  },
  {
   "cell_type": "code",
   "execution_count": 5,
   "id": "cfc9a95e",
   "metadata": {},
   "outputs": [
    {
     "ename": "SyntaxError",
     "evalue": "cannot assign to operator (Temp/ipykernel_1652/2234381466.py, line 1)",
     "output_type": "error",
     "traceback": [
      "\u001b[1;36m  File \u001b[1;32m\"C:\\Users\\admin\\AppData\\Local\\Temp/ipykernel_1652/2234381466.py\"\u001b[1;36m, line \u001b[1;32m1\u001b[0m\n\u001b[1;33m    -d='kedar'\u001b[0m\n\u001b[1;37m    ^\u001b[0m\n\u001b[1;31mSyntaxError\u001b[0m\u001b[1;31m:\u001b[0m cannot assign to operator\n"
     ]
    }
   ],
   "source": [
    "-d='kedar'\n",
    "-d"
   ]
  },
  {
   "cell_type": "markdown",
   "id": "e576323f",
   "metadata": {},
   "source": [
    "### Data types  \n",
    "- int  \n",
    "    For all integers values  \n",
    "        ex: a=9    \n",
    "- float  \n",
    "    For are deciaml values  \n",
    "        ex : b=9.8\n",
    "- string  \n",
    "    Group of characters  \n",
    "        ex : c='kedar'\n",
    "- boolean  \n",
    "    true or false  \n",
    "        ex : d=true\n",
    "- complex  \n",
    "    Number with real and imaganery part  \n",
    "        ex : f=1+2j"
   ]
  },
  {
   "cell_type": "code",
   "execution_count": 7,
   "id": "122a3cb7",
   "metadata": {},
   "outputs": [
    {
     "name": "stdout",
     "output_type": "stream",
     "text": [
      "<class 'int'>\n",
      "<class 'float'>\n",
      "<class 'str'>\n",
      "<class 'bool'>\n",
      "<class 'complex'>\n"
     ]
    }
   ],
   "source": [
    "a=5\n",
    "b=9.8\n",
    "c='kedar'\n",
    "d=True\n",
    "f=1+2j\n",
    "print(type(a))\n",
    "print(type(b))\n",
    "print(type(c))\n",
    "print(type(d))\n",
    "print(type(f))\n"
   ]
  },
  {
   "cell_type": "markdown",
   "id": "6c03484f",
   "metadata": {},
   "source": [
    "### Type casting  \n",
    "- it is used to converts one data type to another data type  \n",
    "    - syntax :  \n",
    "        variable = datatype(variable))"
   ]
  },
  {
   "cell_type": "code",
   "execution_count": 8,
   "id": "210e6ba8",
   "metadata": {},
   "outputs": [
    {
     "name": "stdout",
     "output_type": "stream",
     "text": [
      "<class 'int'>\n"
     ]
    }
   ],
   "source": [
    "a=90\n",
    "print(type(a))"
   ]
  },
  {
   "cell_type": "code",
   "execution_count": 9,
   "id": "1907f42f",
   "metadata": {},
   "outputs": [
    {
     "name": "stdout",
     "output_type": "stream",
     "text": [
      "<class 'str'>\n"
     ]
    }
   ],
   "source": [
    "b=str(a)\n",
    "print(type(b))"
   ]
  },
  {
   "cell_type": "code",
   "execution_count": 11,
   "id": "0b2bf2d4",
   "metadata": {},
   "outputs": [
    {
     "name": "stdout",
     "output_type": "stream",
     "text": [
      "<class 'complex'>\n",
      "(90+0j)\n"
     ]
    }
   ],
   "source": [
    "b=complex(a)\n",
    "print(type(b))\n",
    "print(b)"
   ]
  }
 ],
 "metadata": {
  "kernelspec": {
   "display_name": "Python 3 (ipykernel)",
   "language": "python",
   "name": "python3"
  },
  "language_info": {
   "codemirror_mode": {
    "name": "ipython",
    "version": 3
   },
   "file_extension": ".py",
   "mimetype": "text/x-python",
   "name": "python",
   "nbconvert_exporter": "python",
   "pygments_lexer": "ipython3",
   "version": "3.9.7"
  }
 },
 "nbformat": 4,
 "nbformat_minor": 5
}
