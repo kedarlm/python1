{
 "cells": [
  {
   "cell_type": "markdown",
   "id": "aba46901",
   "metadata": {},
   "source": [
    "PYTHON  \n",
    "  - it is aprogramming paradism means it supports functional programing and object oriented programiming  and also work with procedure oriented programming     \n"
   ]
  },
  {
   "cell_type": "markdown",
   "id": "b20d4348",
   "metadata": {},
   "source": [
    "PROCEDURE PROGRAMMING LANGUAGE:\n",
    "   - it means write our programming language using the functions and objects and classes  \n"
   ]
  },
  {
   "cell_type": "markdown",
   "id": "a81a231c",
   "metadata": {},
   "source": [
    "OBJECT ORIENTED PROGRAMING LANGUAGE :\n",
    "   - Obejct : it is real world entity or physicall word entity represents the memory  \n",
    "   - Class : logical entity contains logic fo the application "
   ]
  },
  {
   "cell_type": "code",
   "execution_count": null,
   "id": "59f64d12",
   "metadata": {},
   "outputs": [],
   "source": [
    "#SYNATX FOR CLASS :\n",
    "    class class_name:\n",
    "        variables\n",
    "        methods or functions"
   ]
  },
  {
   "cell_type": "code",
   "execution_count": 1,
   "id": "7e087f18",
   "metadata": {},
   "outputs": [
    {
     "name": "stdout",
     "output_type": "stream",
     "text": [
      "hello\n"
     ]
    }
   ],
   "source": [
    "print(\"hello\")"
   ]
  },
  {
   "cell_type": "code",
   "execution_count": 2,
   "id": "7249d199",
   "metadata": {},
   "outputs": [
    {
     "data": {
      "text/plain": [
       "15"
      ]
     },
     "execution_count": 2,
     "metadata": {},
     "output_type": "execute_result"
    }
   ],
   "source": [
    "7+8"
   ]
  },
  {
   "cell_type": "code",
   "execution_count": 18,
   "id": "fb9b3027",
   "metadata": {},
   "outputs": [],
   "source": [
    "class Hi:\n",
    "    a=7\n",
    "    b=8\n",
    "    name=\"apssdc\"\n",
    "    def s():\n",
    "        print(\"i'm from show()\")"
   ]
  },
  {
   "cell_type": "code",
   "execution_count": 19,
   "id": "e06f9ad4",
   "metadata": {},
   "outputs": [
    {
     "data": {
      "text/plain": [
       "'apssdc'"
      ]
     },
     "execution_count": 19,
     "metadata": {},
     "output_type": "execute_result"
    }
   ],
   "source": [
    "Hi.name"
   ]
  },
  {
   "cell_type": "code",
   "execution_count": 20,
   "id": "190b27a8",
   "metadata": {},
   "outputs": [
    {
     "data": {
      "text/plain": [
       "7"
      ]
     },
     "execution_count": 20,
     "metadata": {},
     "output_type": "execute_result"
    }
   ],
   "source": [
    "Hi.a"
   ]
  },
  {
   "cell_type": "code",
   "execution_count": 21,
   "id": "11bcf676",
   "metadata": {},
   "outputs": [
    {
     "data": {
      "text/plain": [
       "8"
      ]
     },
     "execution_count": 21,
     "metadata": {},
     "output_type": "execute_result"
    }
   ],
   "source": [
    "Hi.b"
   ]
  },
  {
   "cell_type": "code",
   "execution_count": 23,
   "id": "afc222c9",
   "metadata": {},
   "outputs": [
    {
     "name": "stdout",
     "output_type": "stream",
     "text": [
      "i'm from show()\n"
     ]
    }
   ],
   "source": [
    "Hi.s()"
   ]
  },
  {
   "cell_type": "code",
   "execution_count": 26,
   "id": "a82238b4",
   "metadata": {},
   "outputs": [
    {
     "name": "stdout",
     "output_type": "stream",
     "text": [
      "apssdc python\n",
      "i am from display function\n",
      "None\n",
      "i am form sh function\n",
      "None\n"
     ]
    }
   ],
   "source": [
    "#sample class program\n",
    "class Hi:\n",
    "    name=\"apssdc\"\n",
    "    program=\"python\"\n",
    "    def display():\n",
    "        print(\"i am from display function\")\n",
    "    def sh():\n",
    "        print(\"i am form sh function\")\n",
    "print(Hi.name,Hi.program)\n",
    "print(Hi.display())\n",
    "print(Hi.sh())"
   ]
  },
  {
   "cell_type": "code",
   "execution_count": 28,
   "id": "8517f445",
   "metadata": {},
   "outputs": [
    {
     "name": "stdout",
     "output_type": "stream",
     "text": [
      "i am from display function\n",
      "None\n"
     ]
    }
   ],
   "source": [
    "print(Hi.display())"
   ]
  },
  {
   "cell_type": "code",
   "execution_count": 31,
   "id": "cdf2dba6",
   "metadata": {},
   "outputs": [
    {
     "name": "stdout",
     "output_type": "stream",
     "text": [
      "i am from display function\n",
      "i'm from reutn statement\n"
     ]
    }
   ],
   "source": [
    "class He:    \n",
    "    def display():\n",
    "        print(\"i am from display function\")\n",
    "        return(\"i'm from reutn statement\")\n",
    "    def sh():\n",
    "        print(\"i am form sh function\")\n",
    "print(He.display())"
   ]
  },
  {
   "cell_type": "markdown",
   "id": "bd756aea",
   "metadata": {},
   "source": [
    "### In java object declaration :\n",
    "- class_name obj_name=new class_name\n"
   ]
  },
  {
   "cell_type": "markdown",
   "id": "005feb24",
   "metadata": {},
   "source": [
    "### In python object declaration: \n",
    "- obj=calss_name"
   ]
  },
  {
   "cell_type": "code",
   "execution_count": 37,
   "id": "e31dc682",
   "metadata": {},
   "outputs": [
    {
     "name": "stdout",
     "output_type": "stream",
     "text": [
      "i am from display function\n",
      "i'm from reutn statement\n",
      "i am form sh function\n",
      "None\n"
     ]
    }
   ],
   "source": [
    "#example for object creation\n",
    "class He:    \n",
    "    def display(self):\n",
    "        print(\"i am from display function\")\n",
    "        return(\"i'm from reutn statement\")\n",
    "    def sh(self):\n",
    "        print(\"i am form sh function\")\n",
    "obj=He()\n",
    "print(obj.display())\n",
    "print(obj.sh())"
   ]
  },
  {
   "cell_type": "markdown",
   "id": "8e7d1258",
   "metadata": {},
   "source": [
    "## Constructor\n",
    "- Constructor without usi9ng objects we can call class functions \n",
    "    - In java class name should be same has method name  But in python we will use one special method to define a constructor  \n",
    "    - it will mentioned__init(self)__\n"
   ]
  },
  {
   "cell_type": "code",
   "execution_count": 3,
   "id": "d7e3ce07",
   "metadata": {},
   "outputs": [
    {
     "name": "stdout",
     "output_type": "stream",
     "text": [
      "hii kedar\n",
      "u r roll_no 7\n"
     ]
    }
   ],
   "source": [
    "#example for constructor\n",
    "class H:\n",
    "    def __init__(self,name,no):\n",
    "        self.name=name\n",
    "        self.no=no\n",
    "        print(\"hii\",self.name)\n",
    "    def display(self):\n",
    "        print(\"u r roll_no\",self.no)\n",
    "obj=H(\"kedar\",'7')\n",
    "obj.display()\n"
   ]
  },
  {
   "cell_type": "markdown",
   "id": "5d64216b",
   "metadata": {},
   "source": [
    "## Inheritence\n",
    "   - inherit the data from parent to child class"
   ]
  },
  {
   "cell_type": "code",
   "execution_count": 8,
   "id": "d5bbfd3a",
   "metadata": {},
   "outputs": [
    {
     "name": "stdout",
     "output_type": "stream",
     "text": [
      "9 7\n",
      "i'm from class A\n",
      "i'm from class B\n"
     ]
    }
   ],
   "source": [
    "#example fro inheritence\n",
    "class A:\n",
    "    a,b=7,8\n",
    "    def msg():\n",
    "        print(\"i'm from class A\")\n",
    "class B(A):\n",
    "    c,d=9,1\n",
    "    def msg1():\n",
    "        print(\"i'm from class B\")\n",
    "obj=B\n",
    "print(obj.c,obj.a)\n",
    "obj.msg()\n",
    "obj.msg1()"
   ]
  },
  {
   "cell_type": "markdown",
   "id": "dafd04f4",
   "metadata": {},
   "source": [
    "## Python libraries for data science\n",
    "- To organize ,process,and analyze the huge amount of data \n",
    "- apply data visulilization\n",
    "- extracting data from the source\n",
    "- approx 20 python libraires are there \n",
    "    - top most are :\n",
    "        - numpy\n",
    "        + pandas\n",
    "        + matplotlib"
   ]
  },
  {
   "cell_type": "code",
   "execution_count": null,
   "id": "e032b385",
   "metadata": {},
   "outputs": [],
   "source": [
    "# how to install numpy\n",
    "- pip install numpy "
   ]
  },
  {
   "cell_type": "code",
   "execution_count": null,
   "id": "30fec65d",
   "metadata": {},
   "outputs": [],
   "source": [
    "# hoew to import numpy packages\n",
    "import numpy as np"
   ]
  },
  {
   "cell_type": "code",
   "execution_count": null,
   "id": "ae4dd21d",
   "metadata": {},
   "outputs": [],
   "source": [
    "# how to check numpy verison\n",
    "np.__version__"
   ]
  },
  {
   "cell_type": "code",
   "execution_count": 21,
   "id": "c00eff1b",
   "metadata": {},
   "outputs": [
    {
     "name": "stdout",
     "output_type": "stream",
     "text": [
      "[ 1  2  3 45]\n",
      "<class 'numpy.ndarray'>\n"
     ]
    }
   ],
   "source": [
    "#how to create numpy arrays\n",
    "import numpy as np\n",
    "a=np.array([1,2,3,45,])\n",
    "print(a)\n",
    "print(type(a))"
   ]
  },
  {
   "cell_type": "code",
   "execution_count": 22,
   "id": "fc2824c1",
   "metadata": {},
   "outputs": [
    {
     "name": "stdout",
     "output_type": "stream",
     "text": [
      "[[1 2 3 4]\n",
      " [6 7 8 9]]\n",
      "<class 'numpy.ndarray'>\n"
     ]
    }
   ],
   "source": [
    "a2=np.array([[1,2,3,4],[6,7,8,9]])\n",
    "print(a2)\n",
    "print(type(a2))"
   ]
  },
  {
   "cell_type": "code",
   "execution_count": 23,
   "id": "83f3267d",
   "metadata": {},
   "outputs": [
    {
     "data": {
      "text/plain": [
       "(2, 4)"
      ]
     },
     "execution_count": 23,
     "metadata": {},
     "output_type": "execute_result"
    }
   ],
   "source": [
    "a2.shape"
   ]
  },
  {
   "cell_type": "code",
   "execution_count": 24,
   "id": "b7379f09",
   "metadata": {},
   "outputs": [
    {
     "name": "stdout",
     "output_type": "stream",
     "text": [
      "<class 'list'>\n",
      "['1' '2' '3' 'h' 'i']\n",
      "<class 'numpy.ndarray'>\n"
     ]
    }
   ],
   "source": [
    "li=[1,2,3,'h','i']\n",
    "print(type(li))\n",
    "a1=np.array(li)\n",
    "print(a1)\n",
    "print(type(a1))"
   ]
  },
  {
   "cell_type": "code",
   "execution_count": 30,
   "id": "3f5fa807",
   "metadata": {},
   "outputs": [
    {
     "name": "stdout",
     "output_type": "stream",
     "text": [
      "[[1 2]\n",
      " [3 4]\n",
      " [5 6]\n",
      " [7 8]]\n"
     ]
    }
   ],
   "source": [
    "a1=np.array([[1,2],[3,4],[5,6],[7,8]])\n",
    "print(a1)"
   ]
  },
  {
   "cell_type": "code",
   "execution_count": 31,
   "id": "16b5a6e3",
   "metadata": {},
   "outputs": [
    {
     "name": "stdout",
     "output_type": "stream",
     "text": [
      "int32\n"
     ]
    }
   ],
   "source": [
    "print(a1.dtype)"
   ]
  },
  {
   "cell_type": "code",
   "execution_count": 32,
   "id": "2d08b683",
   "metadata": {},
   "outputs": [
    {
     "name": "stdout",
     "output_type": "stream",
     "text": [
      "[[1 2]\n",
      " [3 4]]\n"
     ]
    }
   ],
   "source": [
    "b=np.array([[1,2],[3,4]])\n",
    "print(b)"
   ]
  },
  {
   "cell_type": "code",
   "execution_count": 33,
   "id": "0e6480ce",
   "metadata": {},
   "outputs": [
    {
     "name": "stdout",
     "output_type": "stream",
     "text": [
      "(2, 2)\n"
     ]
    }
   ],
   "source": [
    "print(b.shape)"
   ]
  },
  {
   "cell_type": "code",
   "execution_count": 34,
   "id": "28b3ecd1",
   "metadata": {},
   "outputs": [
    {
     "data": {
      "text/plain": [
       "4"
      ]
     },
     "execution_count": 34,
     "metadata": {},
     "output_type": "execute_result"
    }
   ],
   "source": [
    "b.itemsize"
   ]
  },
  {
   "cell_type": "code",
   "execution_count": 35,
   "id": "dad47ad7",
   "metadata": {},
   "outputs": [
    {
     "data": {
      "text/plain": [
       "2"
      ]
     },
     "execution_count": 35,
     "metadata": {},
     "output_type": "execute_result"
    }
   ],
   "source": [
    "b.ndim"
   ]
  },
  {
   "cell_type": "code",
   "execution_count": 40,
   "id": "7f35ce6b",
   "metadata": {},
   "outputs": [
    {
     "name": "stdout",
     "output_type": "stream",
     "text": [
      "[0 1 2 3 4 5 6 7 8 9]\n",
      "<class 'numpy.ndarray'>\n",
      "(10,)\n",
      "10\n",
      "[1 3 5 7 9]\n",
      "1\n"
     ]
    }
   ],
   "source": [
    "#range\n",
    "a=np.array(range(10))\n",
    "print(a)\n",
    "print(type(a))\n",
    "print(a.shape)\n",
    "print(a.size)\n",
    "b=np.array(range(1,10,2))\n",
    "print(b)\n",
    "print(b.ndim)"
   ]
  },
  {
   "cell_type": "code",
   "execution_count": 3,
   "id": "fb286cb9",
   "metadata": {},
   "outputs": [
    {
     "name": "stdout",
     "output_type": "stream",
     "text": [
      "<class 'str'>\n",
      "0    hello\n",
      "dtype: object\n",
      "<class 'pandas.core.series.Series'>\n"
     ]
    }
   ],
   "source": [
    "import pandas as pd\n",
    "s=\"hello\"\n",
    "print(type(s))\n",
    "a=pd.Series(s)\n",
    "print(a)\n",
    "print(type(a))"
   ]
  },
  {
   "cell_type": "code",
   "execution_count": 4,
   "id": "63569a97",
   "metadata": {},
   "outputs": [
    {
     "data": {
      "text/plain": [
       "0           hi\n",
       "1         good\n",
       "2    afternoon\n",
       "3           to\n",
       "4     everyone\n",
       "dtype: object"
      ]
     },
     "execution_count": 4,
     "metadata": {},
     "output_type": "execute_result"
    }
   ],
   "source": [
    "s=\"hi good afternoon to everyone\".split()\n",
    "pd.Series(s)"
   ]
  },
  {
   "cell_type": "code",
   "execution_count": 8,
   "id": "f490b5aa",
   "metadata": {},
   "outputs": [
    {
     "data": {
      "text/plain": [
       "1           hi\n",
       "2         good\n",
       "3    afternoon\n",
       "4           to\n",
       "5     everyone\n",
       "dtype: object"
      ]
     },
     "execution_count": 8,
     "metadata": {},
     "output_type": "execute_result"
    }
   ],
   "source": [
    "pd.Series(s,index=[1,2,3,4,5])"
   ]
  },
  {
   "cell_type": "code",
   "execution_count": 9,
   "id": "ebdda3e6",
   "metadata": {},
   "outputs": [
    {
     "data": {
      "text/plain": [
       "int          12\n",
       "str      python\n",
       "float      12.3\n",
       "dtype: object"
      ]
     },
     "execution_count": 9,
     "metadata": {},
     "output_type": "execute_result"
    }
   ],
   "source": [
    "li=(12,'python',12.3)\n",
    "pd.Series(li,index=[\"int\",\"str\",\"float\"])"
   ]
  },
  {
   "cell_type": "code",
   "execution_count": 13,
   "id": "e113f15c",
   "metadata": {},
   "outputs": [
    {
     "data": {
      "text/plain": [
       "v1    a\n",
       "v4    c\n",
       "v3    d\n",
       "v5    k\n",
       "v2    j\n",
       "dtype: object"
      ]
     },
     "execution_count": 13,
     "metadata": {},
     "output_type": "execute_result"
    }
   ],
   "source": [
    "t=('a','c','d','k','j')\n",
    "pd.Series(t,index={'v1','v2','v3','v4','v5'})"
   ]
  },
  {
   "cell_type": "code",
   "execution_count": 14,
   "id": "cbd11898",
   "metadata": {},
   "outputs": [
    {
     "data": {
      "text/plain": [
       "key1      123\n",
       "key2    hello\n",
       "key3     45.6\n",
       "dtype: object"
      ]
     },
     "execution_count": 14,
     "metadata": {},
     "output_type": "execute_result"
    }
   ],
   "source": [
    "dic={'key1':123,'key2':'hello','key3':45.6}\n",
    "pd.Series(dic)"
   ]
  },
  {
   "cell_type": "markdown",
   "id": "c99cb918",
   "metadata": {},
   "source": [
    "## DataFrame"
   ]
  },
  {
   "cell_type": "code",
   "execution_count": 19,
   "id": "c27fd4be",
   "metadata": {},
   "outputs": [
    {
     "data": {
      "text/html": [
       "<div>\n",
       "<style scoped>\n",
       "    .dataframe tbody tr th:only-of-type {\n",
       "        vertical-align: middle;\n",
       "    }\n",
       "\n",
       "    .dataframe tbody tr th {\n",
       "        vertical-align: top;\n",
       "    }\n",
       "\n",
       "    .dataframe thead th {\n",
       "        text-align: right;\n",
       "    }\n",
       "</style>\n",
       "<table border=\"1\" class=\"dataframe\">\n",
       "  <thead>\n",
       "    <tr style=\"text-align: right;\">\n",
       "      <th></th>\n",
       "      <th>0</th>\n",
       "    </tr>\n",
       "  </thead>\n",
       "  <tbody>\n",
       "    <tr>\n",
       "      <th>0</th>\n",
       "      <td>1</td>\n",
       "    </tr>\n",
       "    <tr>\n",
       "      <th>1</th>\n",
       "      <td>2</td>\n",
       "    </tr>\n",
       "    <tr>\n",
       "      <th>2</th>\n",
       "      <td>3</td>\n",
       "    </tr>\n",
       "    <tr>\n",
       "      <th>3</th>\n",
       "      <td>4</td>\n",
       "    </tr>\n",
       "    <tr>\n",
       "      <th>4</th>\n",
       "      <td>5</td>\n",
       "    </tr>\n",
       "    <tr>\n",
       "      <th>5</th>\n",
       "      <td>6</td>\n",
       "    </tr>\n",
       "  </tbody>\n",
       "</table>\n",
       "</div>"
      ],
      "text/plain": [
       "   0\n",
       "0  1\n",
       "1  2\n",
       "2  3\n",
       "3  4\n",
       "4  5\n",
       "5  6"
      ]
     },
     "execution_count": 19,
     "metadata": {},
     "output_type": "execute_result"
    }
   ],
   "source": [
    "d=pd.DataFrame([1,2,3,4,5,6])\n",
    "d"
   ]
  },
  {
   "cell_type": "code",
   "execution_count": 20,
   "id": "0e160f68",
   "metadata": {},
   "outputs": [
    {
     "data": {
      "text/html": [
       "<div>\n",
       "<style scoped>\n",
       "    .dataframe tbody tr th:only-of-type {\n",
       "        vertical-align: middle;\n",
       "    }\n",
       "\n",
       "    .dataframe tbody tr th {\n",
       "        vertical-align: top;\n",
       "    }\n",
       "\n",
       "    .dataframe thead th {\n",
       "        text-align: right;\n",
       "    }\n",
       "</style>\n",
       "<table border=\"1\" class=\"dataframe\">\n",
       "  <thead>\n",
       "    <tr style=\"text-align: right;\">\n",
       "      <th></th>\n",
       "      <th>0</th>\n",
       "      <th>1</th>\n",
       "      <th>2</th>\n",
       "      <th>3</th>\n",
       "      <th>4</th>\n",
       "    </tr>\n",
       "  </thead>\n",
       "  <tbody>\n",
       "    <tr>\n",
       "      <th>0</th>\n",
       "      <td>welcome</td>\n",
       "      <td>to</td>\n",
       "      <td>skill</td>\n",
       "      <td>oriented</td>\n",
       "      <td>class</td>\n",
       "    </tr>\n",
       "  </tbody>\n",
       "</table>\n",
       "</div>"
      ],
      "text/plain": [
       "         0   1      2         3      4\n",
       "0  welcome  to  skill  oriented  class"
      ]
     },
     "execution_count": 20,
     "metadata": {},
     "output_type": "execute_result"
    }
   ],
   "source": [
    "d=pd.DataFrame([\"welcome to skill oriented class \".split()])\n",
    "d"
   ]
  },
  {
   "cell_type": "code",
   "execution_count": 22,
   "id": "5f6075c6",
   "metadata": {},
   "outputs": [
    {
     "data": {
      "text/html": [
       "<div>\n",
       "<style scoped>\n",
       "    .dataframe tbody tr th:only-of-type {\n",
       "        vertical-align: middle;\n",
       "    }\n",
       "\n",
       "    .dataframe tbody tr th {\n",
       "        vertical-align: top;\n",
       "    }\n",
       "\n",
       "    .dataframe thead th {\n",
       "        text-align: right;\n",
       "    }\n",
       "</style>\n",
       "<table border=\"1\" class=\"dataframe\">\n",
       "  <thead>\n",
       "    <tr style=\"text-align: right;\">\n",
       "      <th></th>\n",
       "      <th>0</th>\n",
       "      <th>1</th>\n",
       "      <th>2</th>\n",
       "    </tr>\n",
       "  </thead>\n",
       "  <tbody>\n",
       "    <tr>\n",
       "      <th>list1</th>\n",
       "      <td>1</td>\n",
       "      <td>2</td>\n",
       "      <td>3</td>\n",
       "    </tr>\n",
       "    <tr>\n",
       "      <th>list2</th>\n",
       "      <td>4</td>\n",
       "      <td>5</td>\n",
       "      <td>6</td>\n",
       "    </tr>\n",
       "  </tbody>\n",
       "</table>\n",
       "</div>"
      ],
      "text/plain": [
       "       0  1  2\n",
       "list1  1  2  3\n",
       "list2  4  5  6"
      ]
     },
     "execution_count": 22,
     "metadata": {},
     "output_type": "execute_result"
    }
   ],
   "source": [
    "li=[[1,2,3],[4,5,6]]\n",
    "pd.DataFrame(li,index=['list1','list2'])"
   ]
  },
  {
   "cell_type": "code",
   "execution_count": 26,
   "id": "f23a359c",
   "metadata": {},
   "outputs": [
    {
     "data": {
      "text/html": [
       "<div>\n",
       "<style scoped>\n",
       "    .dataframe tbody tr th:only-of-type {\n",
       "        vertical-align: middle;\n",
       "    }\n",
       "\n",
       "    .dataframe tbody tr th {\n",
       "        vertical-align: top;\n",
       "    }\n",
       "\n",
       "    .dataframe thead th {\n",
       "        text-align: right;\n",
       "    }\n",
       "</style>\n",
       "<table border=\"1\" class=\"dataframe\">\n",
       "  <thead>\n",
       "    <tr style=\"text-align: right;\">\n",
       "      <th></th>\n",
       "      <th>k1</th>\n",
       "      <th>k2</th>\n",
       "      <th>k3</th>\n",
       "      <th>k4</th>\n",
       "    </tr>\n",
       "  </thead>\n",
       "  <tbody>\n",
       "    <tr>\n",
       "      <th>1</th>\n",
       "      <td>h</td>\n",
       "      <td>e</td>\n",
       "      <td>l</td>\n",
       "      <td>o</td>\n",
       "    </tr>\n",
       "    <tr>\n",
       "      <th>2</th>\n",
       "      <td>h</td>\n",
       "      <td>e</td>\n",
       "      <td>l</td>\n",
       "      <td>o</td>\n",
       "    </tr>\n",
       "  </tbody>\n",
       "</table>\n",
       "</div>"
      ],
      "text/plain": [
       "  k1 k2 k3 k4\n",
       "1  h  e  l  o\n",
       "2  h  e  l  o"
      ]
     },
     "execution_count": 26,
     "metadata": {},
     "output_type": "execute_result"
    }
   ],
   "source": [
    "d={'k1':'h','k2':'e','k3':'l','k4':'o'}\n",
    "pd.DataFrame(d,index=[1,2])"
   ]
  },
  {
   "cell_type": "code",
   "execution_count": 5,
   "id": "92c0b568",
   "metadata": {},
   "outputs": [
    {
     "ename": "SyntaxError",
     "evalue": "invalid syntax (Temp/ipykernel_2452/3013869652.py, line 2)",
     "output_type": "error",
     "traceback": [
      "\u001b[1;36m  File \u001b[1;32m\"C:\\Users\\admin\\AppData\\Local\\Temp/ipykernel_2452/3013869652.py\"\u001b[1;36m, line \u001b[1;32m2\u001b[0m\n\u001b[1;33m    pd.DataFrame=(dic,index=['s1','s2','s3','s4'])\u001b[0m\n\u001b[1;37m                           ^\u001b[0m\n\u001b[1;31mSyntaxError\u001b[0m\u001b[1;31m:\u001b[0m invalid syntax\n"
     ]
    }
   ],
   "source": [
    "dic={'names':['sidhu','kedar','manikanta','sdc'],'marks':[95,96,92,70],'id':[508,507,606,519]}\n",
    "pd.DataFrame=(dic,index=['s1','s2','s3','s4'])"
   ]
  },
  {
   "cell_type": "code",
   "execution_count": 16,
   "id": "ba99081b",
   "metadata": {},
   "outputs": [
    {
     "data": {
      "image/png": "[encoded data removed]",
      "text/plain": [
       "<Figure size 432x288 with 1 Axes>"
      ]
     },
     "metadata": {
      "needs_background": "light"
     },
     "output_type": "display_data"
    }
   ],
   "source": [
    "import matplotlib.pyplot as pit\n",
    "pit.plot([2.5,1.2,3.9,5.6,3.9],[4.3,5.75,6,8.3,1.3])\n",
    "pit.title(\"my_graph\")\n",
    "pit.xlabel('x-axis')\n",
    "pit.ylabel('y-axis')\n",
    "pit.show()"
   ]
  },
  {
   "cell_type": "code",
   "execution_count": null,
   "id": "5c601d82",
   "metadata": {},
   "outputs": [],
   "source": []
  }
 ],
 "metadata": {
  "kernelspec": {
   "display_name": "Python 3 (ipykernel)",
   "language": "python",
   "name": "python3"
  },
  "language_info": {
   "codemirror_mode": {
    "name": "ipython",
    "version": 3
   },
   "file_extension": ".py",
   "mimetype": "text/x-python",
   "name": "python",
   "nbconvert_exporter": "python",
   "pygments_lexer": "ipython3",
   "version": "3.9.7"
  }
 },
 "nbformat": 4,
 "nbformat_minor": 5
}
