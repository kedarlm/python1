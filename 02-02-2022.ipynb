{
 "cells": [
  {
   "cell_type": "markdown",
   "id": "6f549183",
   "metadata": {},
   "source": [
    "## input and output methods  \n",
    "- reading the data or information from thw user is called input syntax:***input()***  \n",
    "#### two types of input \n",
    "    1.static input  \n",
    "    2.dynamic input  \n",
    "- displaying the data to the user is called the output syntax:***print()***"
   ]
  },
  {
   "cell_type": "markdown",
   "id": "ddcb7654",
   "metadata": {},
   "source": [
    "static input example"
   ]
  },
  {
   "cell_type": "code",
   "execution_count": 1,
   "id": "1cc48e7b",
   "metadata": {},
   "outputs": [
    {
     "name": "stdout",
     "output_type": "stream",
     "text": [
      "5\n"
     ]
    }
   ],
   "source": [
    "a=5\n",
    "print(a)"
   ]
  },
  {
   "cell_type": "markdown",
   "id": "31202580",
   "metadata": {},
   "source": [
    "dynamic input example "
   ]
  },
  {
   "cell_type": "code",
   "execution_count": 2,
   "id": "c71ea79d",
   "metadata": {},
   "outputs": [
    {
     "name": "stdout",
     "output_type": "stream",
     "text": [
      "0708\n"
     ]
    },
    {
     "data": {
      "text/plain": [
       "'0708'"
      ]
     },
     "execution_count": 2,
     "metadata": {},
     "output_type": "execute_result"
    }
   ],
   "source": [
    "a=input()\n",
    "a"
   ]
  },
  {
   "cell_type": "code",
   "execution_count": 4,
   "id": "d21e3844",
   "metadata": {},
   "outputs": [
    {
     "name": "stdout",
     "output_type": "stream",
     "text": [
      "enter a number 78\n",
      "a value is  78\n"
     ]
    }
   ],
   "source": [
    "a=input(\"enter a number \")\n",
    "print(\"a value is \" ,a)"
   ]
  },
  {
   "cell_type": "code",
   "execution_count": 5,
   "id": "7eb59848",
   "metadata": {},
   "outputs": [
    {
     "name": "stdout",
     "output_type": "stream",
     "text": [
      "enter flaot value3.25\n",
      "the float value of a is 3.25\n"
     ]
    }
   ],
   "source": [
    "a=float(input(\"enter flaot value\"))\n",
    "print(\"the float value of a is\",a)"
   ]
  },
  {
   "cell_type": "code",
   "execution_count": 10,
   "id": "e91c800a",
   "metadata": {},
   "outputs": [
    {
     "name": "stdout",
     "output_type": "stream",
     "text": [
      "a value is 7 b value is  8\n"
     ]
    }
   ],
   "source": [
    "a=7\n",
    "b=8\n",
    "print(\"a value is\",a,\"b value is \",b)"
   ]
  },
  {
   "cell_type": "markdown",
   "id": "5e154fe1",
   "metadata": {},
   "source": [
    "using sep and end keywords we can separate two values \n",
    "example:"
   ]
  },
  {
   "cell_type": "code",
   "execution_count": 11,
   "id": "ed85f017",
   "metadata": {},
   "outputs": [
    {
     "name": "stdout",
     "output_type": "stream",
     "text": [
      "7,8%"
     ]
    }
   ],
   "source": [
    "print(a,b,sep=\",\",end=\"%\")"
   ]
  },
  {
   "cell_type": "code",
   "execution_count": 13,
   "id": "b22e1943",
   "metadata": {},
   "outputs": [
    {
     "name": "stdout",
     "output_type": "stream",
     "text": [
      "Help on built-in function print in module builtins:\n",
      "\n",
      "print(...)\n",
      "    print(value, ..., sep=' ', end='\\n', file=sys.stdout, flush=False)\n",
      "    \n",
      "    Prints the values to a stream, or to sys.stdout by default.\n",
      "    Optional keyword arguments:\n",
      "    file:  a file-like object (stream); defaults to the current sys.stdout.\n",
      "    sep:   string inserted between values, default a space.\n",
      "    end:   string appended after the last value, default a newline.\n",
      "    flush: whether to forcibly flush the stream.\n",
      "\n"
     ]
    }
   ],
   "source": [
    "help(print)\n"
   ]
  },
  {
   "cell_type": "markdown",
   "id": "b4986f48",
   "metadata": {},
   "source": [
    "generate three values from user that value seperated with dollar and end with percenetage and again print all three values\n"
   ]
  },
  {
   "cell_type": "code",
   "execution_count": 2,
   "id": "c3188b79",
   "metadata": {},
   "outputs": [
    {
     "name": "stdout",
     "output_type": "stream",
     "text": [
      "enter a value7\n",
      "enter b value8\n",
      "enter c value0\n",
      "7 $ 8 $ 0% \n",
      "7 8 0\n"
     ]
    }
   ],
   "source": [
    "a=input(\"enter a value\")\n",
    "b=input(\"enter b value\")\n",
    "c=input(\"enter c value\")\n",
    "print(a,b,c,sep=\" $ \",end=\"% \\n\")   \n",
    "print(a,b,c)"
   ]
  },
  {
   "cell_type": "markdown",
   "id": "cd5ac7ea",
   "metadata": {},
   "source": [
    "## operators\n",
    "1.Airthematic  \n",
    "    +,-,*,/,%     \n",
    "        - normal division output is quotient  \n",
    "        - int division output is integer part of quotient  \n",
    "        - modular division output is remainder  \n",
    "2.Assingment  \n",
    "    =  \n",
    "3.Comparision  \n",
    "    <,>,<=,>=,==  \n",
    "4.Logical  \n",
    "    and ,or, not              \n",
    "5.Bitwise  \n",
    "    &,|,^   \n",
    "7.Identity operators  \n",
    "    is(==),is not(!=)  \n",
    "8.Membership operators   \n",
    "    in,notin"
   ]
  },
  {
   "cell_type": "markdown",
   "id": "277be758",
   "metadata": {},
   "source": [
    "## Airthematic operators"
   ]
  },
  {
   "cell_type": "code",
   "execution_count": 3,
   "id": "77e08018",
   "metadata": {},
   "outputs": [
    {
     "name": "stdout",
     "output_type": "stream",
     "text": [
      "addition  15\n",
      "subtraction  -1\n",
      "multiplication  56\n",
      "power  5764801\n",
      "division  0.875\n",
      "int division  0\n",
      "module division  7\n"
     ]
    }
   ],
   "source": [
    "a=7\n",
    "b=8\n",
    "print(\"addition \",a+b)  \n",
    "print(\"subtraction \",a-b)  \n",
    "print(\"multiplication \",a*b)  \n",
    "print(\"power \",a**b)   \n",
    "print(\"division \",a/b)  \n",
    "print(\"int division \",a//b)\n",
    "print(\"module division \",a%b)\n"
   ]
  },
  {
   "cell_type": "markdown",
   "id": "e1f7ac0c",
   "metadata": {},
   "source": [
    "## comparision operator"
   ]
  },
  {
   "cell_type": "code",
   "execution_count": 4,
   "id": "0decb28e",
   "metadata": {},
   "outputs": [
    {
     "data": {
      "text/plain": [
       "True"
      ]
     },
     "execution_count": 4,
     "metadata": {},
     "output_type": "execute_result"
    }
   ],
   "source": [
    "25>8\n",
    "35<98"
   ]
  },
  {
   "cell_type": "code",
   "execution_count": 5,
   "id": "bacec257",
   "metadata": {},
   "outputs": [
    {
     "data": {
      "text/plain": [
       "True"
      ]
     },
     "execution_count": 5,
     "metadata": {},
     "output_type": "execute_result"
    }
   ],
   "source": [
    "35>7"
   ]
  },
  {
   "cell_type": "code",
   "execution_count": 6,
   "id": "cdf68dea",
   "metadata": {},
   "outputs": [
    {
     "data": {
      "text/plain": [
       "False"
      ]
     },
     "execution_count": 6,
     "metadata": {},
     "output_type": "execute_result"
    }
   ],
   "source": [
    "53<7\n"
   ]
  },
  {
   "cell_type": "code",
   "execution_count": 10,
   "id": "f102f1b7",
   "metadata": {},
   "outputs": [
    {
     "name": "stdout",
     "output_type": "stream",
     "text": [
      "c is big\n"
     ]
    }
   ],
   "source": [
    "a=5\n",
    "b=6\n",
    "c=8\n",
    "if a>b and a>c:\n",
    "    print(\"a is big \")\n",
    "else:\n",
    "    print(\"c is big\")"
   ]
  },
  {
   "cell_type": "markdown",
   "id": "ede2eb47",
   "metadata": {},
   "source": [
    "## logical operator\n",
    "- and the inputs are true then the output is true \n",
    "- or in input one condition is true then the output will be true\n",
    "- not if the input true then the ouput is false"
   ]
  },
  {
   "cell_type": "code",
   "execution_count": 11,
   "id": "bb3183ea",
   "metadata": {},
   "outputs": [
    {
     "data": {
      "text/plain": [
       "True"
      ]
     },
     "execution_count": 11,
     "metadata": {},
     "output_type": "execute_result"
    }
   ],
   "source": [
    "# example for and #  \n",
    "5>3 and 6>5\n"
   ]
  },
  {
   "cell_type": "code",
   "execution_count": 12,
   "id": "c093f16b",
   "metadata": {},
   "outputs": [
    {
     "data": {
      "text/plain": [
       "False"
      ]
     },
     "execution_count": 12,
     "metadata": {},
     "output_type": "execute_result"
    }
   ],
   "source": [
    "#example for or #\n",
    "5>6 or 8<0"
   ]
  },
  {
   "cell_type": "code",
   "execution_count": 13,
   "id": "85ce6d9c",
   "metadata": {},
   "outputs": [
    {
     "data": {
      "text/plain": [
       "False"
      ]
     },
     "execution_count": 13,
     "metadata": {},
     "output_type": "execute_result"
    }
   ],
   "source": [
    "#example for not #\n",
    "a=19\n",
    "not a"
   ]
  },
  {
   "cell_type": "markdown",
   "id": "0b4853e5",
   "metadata": {},
   "source": [
    "## bitwize operator"
   ]
  },
  {
   "cell_type": "code",
   "execution_count": 14,
   "id": "6e0c0dfa",
   "metadata": {},
   "outputs": [
    {
     "data": {
      "text/plain": [
       "2"
      ]
     },
     "execution_count": 14,
     "metadata": {},
     "output_type": "execute_result"
    }
   ],
   "source": [
    "#example for and #\n",
    "2& 3\n"
   ]
  },
  {
   "cell_type": "code",
   "execution_count": 15,
   "id": "56e6aee4",
   "metadata": {},
   "outputs": [
    {
     "data": {
      "text/plain": [
       "3"
      ]
     },
     "execution_count": 15,
     "metadata": {},
     "output_type": "execute_result"
    }
   ],
   "source": [
    "#example for or #\n",
    "2|3"
   ]
  },
  {
   "cell_type": "code",
   "execution_count": 16,
   "id": "a1290843",
   "metadata": {},
   "outputs": [
    {
     "data": {
      "text/plain": [
       "6"
      ]
     },
     "execution_count": 16,
     "metadata": {},
     "output_type": "execute_result"
    }
   ],
   "source": [
    "# example for ex-or #\n",
    "2^4"
   ]
  },
  {
   "cell_type": "code",
   "execution_count": 17,
   "id": "8d78d10d",
   "metadata": {},
   "outputs": [
    {
     "data": {
      "text/plain": [
       "128"
      ]
     },
     "execution_count": 17,
     "metadata": {},
     "output_type": "execute_result"
    }
   ],
   "source": [
    "#example fro left shift#\n",
    "2<<6"
   ]
  },
  {
   "cell_type": "code",
   "execution_count": 18,
   "id": "c985ace0",
   "metadata": {},
   "outputs": [
    {
     "data": {
      "text/plain": [
       "0"
      ]
     },
     "execution_count": 18,
     "metadata": {},
     "output_type": "execute_result"
    }
   ],
   "source": [
    "# example for right shift #\n",
    "2>>5"
   ]
  },
  {
   "cell_type": "markdown",
   "id": "b573b39c",
   "metadata": {},
   "source": [
    "## identity operator"
   ]
  },
  {
   "cell_type": "code",
   "execution_count": 21,
   "id": "6fbc5d14",
   "metadata": {},
   "outputs": [
    {
     "name": "stderr",
     "output_type": "stream",
     "text": [
      "<>:2: SyntaxWarning: \"is\" with a literal. Did you mean \"==\"?\n",
      "<>:2: SyntaxWarning: \"is not\" with a literal. Did you mean \"!=\"?\n",
      "<>:2: SyntaxWarning: \"is\" with a literal. Did you mean \"==\"?\n",
      "<>:2: SyntaxWarning: \"is not\" with a literal. Did you mean \"!=\"?\n",
      "C:\\Users\\admin\\AppData\\Local\\Temp/ipykernel_3340/1426518158.py:2: SyntaxWarning: \"is\" with a literal. Did you mean \"==\"?\n",
      "  a is 100 and a is not 100\n",
      "C:\\Users\\admin\\AppData\\Local\\Temp/ipykernel_3340/1426518158.py:2: SyntaxWarning: \"is not\" with a literal. Did you mean \"!=\"?\n",
      "  a is 100 and a is not 100\n"
     ]
    },
    {
     "data": {
      "text/plain": [
       "False"
      ]
     },
     "execution_count": 21,
     "metadata": {},
     "output_type": "execute_result"
    }
   ],
   "source": [
    "# example for identity operator#\n",
    "a is 100 and a is not 100"
   ]
  },
  {
   "cell_type": "code",
   "execution_count": 25,
   "id": "2601621b",
   "metadata": {},
   "outputs": [
    {
     "data": {
      "text/plain": [
       "False"
      ]
     },
     "execution_count": 25,
     "metadata": {},
     "output_type": "execute_result"
    }
   ],
   "source": [
    "#rectifiying abopve error #\n",
    "a==100 and a!=100"
   ]
  },
  {
   "cell_type": "markdown",
   "id": "4f70dbbb",
   "metadata": {},
   "source": [
    "## membership operator"
   ]
  },
  {
   "cell_type": "code",
   "execution_count": 35,
   "id": "964a9427",
   "metadata": {},
   "outputs": [
    {
     "data": {
      "text/plain": [
       "True"
      ]
     },
     "execution_count": 35,
     "metadata": {},
     "output_type": "execute_result"
    }
   ],
   "source": [
    "#examplae for membership operator #\n",
    "a=[1,2,5,4,7,3,6,9]\n",
    "10 not in   a\n"
   ]
  },
  {
   "cell_type": "code",
   "execution_count": 36,
   "id": "a833aafb",
   "metadata": {},
   "outputs": [
    {
     "data": {
      "text/plain": [
       "False"
      ]
     },
     "execution_count": 36,
     "metadata": {},
     "output_type": "execute_result"
    }
   ],
   "source": [
    "4 not in a"
   ]
  },
  {
   "cell_type": "markdown",
   "id": "0cdbe15b",
   "metadata": {},
   "source": [
    "## auto increment  and auto decrement"
   ]
  },
  {
   "cell_type": "code",
   "execution_count": 45,
   "id": "de0c7123",
   "metadata": {},
   "outputs": [
    {
     "name": "stdout",
     "output_type": "stream",
     "text": [
      "5\n"
     ]
    }
   ],
   "source": [
    "a=4\n",
    "a+=1\n",
    "print(a)\n"
   ]
  },
  {
   "cell_type": "code",
   "execution_count": 46,
   "id": "32bca2b0",
   "metadata": {},
   "outputs": [
    {
     "name": "stdout",
     "output_type": "stream",
     "text": [
      "4\n"
     ]
    }
   ],
   "source": [
    "a-=1\n",
    "print(a)\n"
   ]
  },
  {
   "cell_type": "code",
   "execution_count": 47,
   "id": "e5949fce",
   "metadata": {},
   "outputs": [
    {
     "name": "stdout",
     "output_type": "stream",
     "text": [
      "4\n"
     ]
    }
   ],
   "source": [
    "\n",
    "a*=1\n",
    "print(a)"
   ]
  },
  {
   "cell_type": "code",
   "execution_count": 48,
   "id": "6f19f11b",
   "metadata": {},
   "outputs": [
    {
     "name": "stdout",
     "output_type": "stream",
     "text": [
      "4.0\n"
     ]
    }
   ],
   "source": [
    "a/=1\n",
    "print(a)"
   ]
  },
  {
   "cell_type": "markdown",
   "id": "673708ab",
   "metadata": {},
   "source": [
    "## control flow  \n",
    "- conditional statements(if,else,elseif,nestedif)  \n",
    "- loops(for,while)   \n",
    "- break,return"
   ]
  },
  {
   "cell_type": "code",
   "execution_count": null,
   "id": "d8eb9495",
   "metadata": {},
   "outputs": [],
   "source": [
    "#in  c-lang\n",
    "if(condition)\n",
    "{\n",
    "    block of code\n",
    "}"
   ]
  },
  {
   "cell_type": "markdown",
   "id": "4fd75562",
   "metadata": {},
   "source": [
    "## conditional statements in python"
   ]
  },
  {
   "cell_type": "markdown",
   "id": "5a972094",
   "metadata": {},
   "source": [
    "### syntax for if statement\n",
    "if condition:  \n",
    "        block of statements  \n",
    "    \n",
    "    \n",
    "### syntax for if else statement\n",
    "if condition:  \n",
    "        block of statements  \n",
    "else:  \n",
    "        block of statements  \n",
    "\n",
    "\n",
    "### syantax for elif statement (elseif)  \n",
    "if condition:  \n",
    "        block of statements  \n",
    "else if condition:    \n",
    "        block of statements  \n",
    "else:  \n",
    "        block of statements  \n",
    " \n",
    "\n",
    "    "
   ]
  },
  {
   "cell_type": "code",
   "execution_count": 53,
   "id": "6feccc5b",
   "metadata": {},
   "outputs": [
    {
     "name": "stdout",
     "output_type": "stream",
     "text": [
      "enter the a value5\n",
      "the given number  5 is odd\n"
     ]
    }
   ],
   "source": [
    "#given number is even or odd\n",
    "a=int(input(\"enter the a value\"))\n",
    "if (a%2==0):\n",
    "    print(\"the given number \",a,\"is even\")\n",
    "else:\n",
    "    print(\"the given number \",a,\"is odd\")\n",
    "    "
   ]
  },
  {
   "cell_type": "code",
   "execution_count": 55,
   "id": "118938c5",
   "metadata": {},
   "outputs": [
    {
     "name": "stdout",
     "output_type": "stream",
     "text": [
      "enter the value-5\n",
      "the number is negative\n"
     ]
    }
   ],
   "source": [
    "#given number is positive or negative\n",
    "a=int(input(\"enter the value\"))\n",
    "if(a>0):\n",
    "    print(\"the number is positive\")\n",
    "elif(a<0):\n",
    "    print(\"the number is negative\")\n",
    "else:\n",
    "    print(\"the number is zero\")\n",
    "    "
   ]
  },
  {
   "cell_type": "code",
   "execution_count": 60,
   "id": "51bcc7d2",
   "metadata": {},
   "outputs": [
    {
     "name": "stdout",
     "output_type": "stream",
     "text": [
      "enter the value6\n",
      "the number divisible by 2 only\n"
     ]
    }
   ],
   "source": [
    "# number is two but not 10\n",
    "a=int(input(\"enter the value\"))\n",
    "if(a%2==0):\n",
    "    if(a%10!=0):\n",
    "        print(\"the number divisible by 2 only\")\n",
    "    else:\n",
    "        print(\"the number divisible by both numbers\")\n",
    "else:\n",
    "    print(\"the number not divisible by 2 and 10\")\n"
   ]
  },
  {
   "cell_type": "markdown",
   "id": "2de10724",
   "metadata": {},
   "source": [
    "## range \n",
    "- syntax for the range is(start value,end value)\n",
    "- start value is inclusiove and end value is exclusive "
   ]
  },
  {
   "cell_type": "code",
   "execution_count": 61,
   "id": "547e1379",
   "metadata": {},
   "outputs": [
    {
     "data": {
      "text/plain": [
       "range(10, 20, 2)"
      ]
     },
     "execution_count": 61,
     "metadata": {},
     "output_type": "execute_result"
    }
   ],
   "source": [
    "range(10,20,1)\n",
    "#11,12,13,14,15,16,17,18,19\n",
    "range(10,30,2)\n",
    "#2,20,21,22,23,24,25,26,27,28.29\n",
    "range(20,1,-1)\n",
    "#19,18,17,16,15,14,13,12,11,10\n",
    "range(10)\n",
    "#it takes as a end value\n",
    "rane(10,30)\n",
    "#it takes a starting and end value"
   ]
  },
  {
   "cell_type": "code",
   "execution_count": 66,
   "id": "94b3593b",
   "metadata": {},
   "outputs": [
    {
     "data": {
      "text/plain": [
       "[10, 11, 12, 13, 14, 15, 16, 17, 18, 19]"
      ]
     },
     "execution_count": 66,
     "metadata": {},
     "output_type": "execute_result"
    }
   ],
   "source": [
    "list(range(10,20,1))"
   ]
  },
  {
   "cell_type": "code",
   "execution_count": 65,
   "id": "a73192c5",
   "metadata": {},
   "outputs": [
    {
     "data": {
      "text/plain": [
       "[10, 12, 14, 16, 18, 20, 22, 24, 26, 28]"
      ]
     },
     "execution_count": 65,
     "metadata": {},
     "output_type": "execute_result"
    }
   ],
   "source": [
    "list(range(10,30,2))"
   ]
  },
  {
   "cell_type": "code",
   "execution_count": 64,
   "id": "2d8eac37",
   "metadata": {},
   "outputs": [
    {
     "data": {
      "text/plain": [
       "[20, 19, 18, 17, 16, 15, 14, 13, 12, 11, 10, 9, 8, 7, 6, 5, 4, 3, 2]"
      ]
     },
     "execution_count": 64,
     "metadata": {},
     "output_type": "execute_result"
    }
   ],
   "source": [
    "list(range(20,1,-1))"
   ]
  },
  {
   "cell_type": "code",
   "execution_count": 67,
   "id": "e0234f20",
   "metadata": {},
   "outputs": [
    {
     "data": {
      "text/plain": [
       "[0, 1, 2, 3, 4, 5, 6, 7, 8, 9]"
      ]
     },
     "execution_count": 67,
     "metadata": {},
     "output_type": "execute_result"
    }
   ],
   "source": [
    "list(range(10))"
   ]
  },
  {
   "cell_type": "code",
   "execution_count": 68,
   "id": "7f41c448",
   "metadata": {},
   "outputs": [
    {
     "data": {
      "text/plain": [
       "[10,\n",
       " 11,\n",
       " 12,\n",
       " 13,\n",
       " 14,\n",
       " 15,\n",
       " 16,\n",
       " 17,\n",
       " 18,\n",
       " 19,\n",
       " 20,\n",
       " 21,\n",
       " 22,\n",
       " 23,\n",
       " 24,\n",
       " 25,\n",
       " 26,\n",
       " 27,\n",
       " 28,\n",
       " 29]"
      ]
     },
     "execution_count": 68,
     "metadata": {},
     "output_type": "execute_result"
    }
   ],
   "source": [
    "list(range(10,30))"
   ]
  },
  {
   "cell_type": "code",
   "execution_count": null,
   "id": "d891b92c",
   "metadata": {},
   "outputs": [],
   "source": []
  }
 ],
 "metadata": {
  "kernelspec": {
   "display_name": "Python 3 (ipykernel)",
   "language": "python",
   "name": "python3"
  },
  "language_info": {
   "codemirror_mode": {
    "name": "ipython",
    "version": 3
   },
   "file_extension": ".py",
   "mimetype": "text/x-python",
   "name": "python",
   "nbconvert_exporter": "python",
   "pygments_lexer": "ipython3",
   "version": "3.9.7"
  }
 },
 "nbformat": 4,
 "nbformat_minor": 5
}
