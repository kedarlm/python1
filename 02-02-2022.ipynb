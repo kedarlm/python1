{
 "cells": [
  {
   "cell_type": "markdown",
   "id": "565ce8f4",
   "metadata": {},
   "source": [
    "## input and output methods  \n",
    "- reading the data or information from thw user is called input syntax:***input()***  \n",
    "#### two types of input \n",
    "    1.static input  \n",
    "    2.dynamic input  \n",
    "- displaying the data to the user is called the output syntax:***print()***"
   ]
  },
  {
   "cell_type": "markdown",
   "id": "85daea7e",
   "metadata": {},
   "source": [
    "static input example"
   ]
  },
  {
   "cell_type": "code",
   "execution_count": 1,
   "id": "a48dfe55",
   "metadata": {},
   "outputs": [
    {
     "name": "stdout",
     "output_type": "stream",
     "text": [
      "5\n"
     ]
    }
   ],
   "source": [
    "a=5\n",
    "print(a)"
   ]
  },
  {
   "cell_type": "markdown",
   "id": "27a27e45",
   "metadata": {},
   "source": [
    "dynamic input example "
   ]
  },
  {
   "cell_type": "code",
   "execution_count": 2,
   "id": "fc3de60b",
   "metadata": {},
   "outputs": [
    {
     "name": "stdout",
     "output_type": "stream",
     "text": [
      "0708\n"
     ]
    },
    {
     "data": {
      "text/plain": [
       "'0708'"
      ]
     },
     "execution_count": 2,
     "metadata": {},
     "output_type": "execute_result"
    }
   ],
   "source": [
    "a=input()\n",
    "a"
   ]
  },
  {
   "cell_type": "code",
   "execution_count": 4,
   "id": "282a340c",
   "metadata": {},
   "outputs": [
    {
     "name": "stdout",
     "output_type": "stream",
     "text": [
      "enter a number 78\n",
      "a value is  78\n"
     ]
    }
   ],
   "source": [
    "a=input(\"enter a number \")\n",
    "print(\"a value is \" ,a)"
   ]
  },
  {
   "cell_type": "code",
   "execution_count": 5,
   "id": "86532f3c",
   "metadata": {},
   "outputs": [
    {
     "name": "stdout",
     "output_type": "stream",
     "text": [
      "enter flaot value3.25\n",
      "the float value of a is 3.25\n"
     ]
    }
   ],
   "source": [
    "a=float(input(\"enter flaot value\"))\n",
    "print(\"the float value of a is\",a)"
   ]
  },
  {
   "cell_type": "code",
   "execution_count": 10,
   "id": "183254ba",
   "metadata": {},
   "outputs": [
    {
     "name": "stdout",
     "output_type": "stream",
     "text": [
      "a value is 7 b value is  8\n"
     ]
    }
   ],
   "source": [
    "a=7\n",
    "b=8\n",
    "print(\"a value is\",a,\"b value is \",b)"
   ]
  },
  {
   "cell_type": "markdown",
   "id": "d21c7e8f",
   "metadata": {},
   "source": [
    "using sep and end keywords we can separate two values \n",
    "example:"
   ]
  },
  {
   "cell_type": "code",
   "execution_count": 11,
   "id": "6dba2064",
   "metadata": {},
   "outputs": [
    {
     "name": "stdout",
     "output_type": "stream",
     "text": [
      "7,8%"
     ]
    }
   ],
   "source": [
    "print(a,b,sep=\",\",end=\"%\")"
   ]
  },
  {
   "cell_type": "code",
   "execution_count": 13,
   "id": "687d06ab",
   "metadata": {},
   "outputs": [
    {
     "name": "stdout",
     "output_type": "stream",
     "text": [
      "Help on built-in function print in module builtins:\n",
      "\n",
      "print(...)\n",
      "    print(value, ..., sep=' ', end='\\n', file=sys.stdout, flush=False)\n",
      "    \n",
      "    Prints the values to a stream, or to sys.stdout by default.\n",
      "    Optional keyword arguments:\n",
      "    file:  a file-like object (stream); defaults to the current sys.stdout.\n",
      "    sep:   string inserted between values, default a space.\n",
      "    end:   string appended after the last value, default a newline.\n",
      "    flush: whether to forcibly flush the stream.\n",
      "\n"
     ]
    }
   ],
   "source": [
    "help(print)\n"
   ]
  },
  {
   "cell_type": "markdown",
   "id": "10c43e43",
   "metadata": {},
   "source": [
    "generate three values from user that value seperated with dollar and end with percenetage and again print all three values\n"
   ]
  },
  {
   "cell_type": "code",
   "execution_count": 2,
   "id": "fb18b6ae",
   "metadata": {},
   "outputs": [
    {
     "name": "stdout",
     "output_type": "stream",
     "text": [
      "enter a value7\n",
      "enter b value8\n",
      "enter c value0\n",
      "7 $ 8 $ 0% \n",
      "7 8 0\n"
     ]
    }
   ],
   "source": [
    "a=input(\"enter a value\")\n",
    "b=input(\"enter b value\")\n",
    "c=input(\"enter c value\")\n",
    "print(a,b,c,sep=\" $ \",end=\"% \\n\")   \n",
    "print(a,b,c)"
   ]
  },
  {
   "cell_type": "markdown",
   "id": "1499a57c",
   "metadata": {},
   "source": [
    "## operators\n",
    "1.Airthematic  \n",
    "    +,-,*,/,%     \n",
    "        - normal division output is quotient  \n",
    "        - int division output is integer part of quotient  \n",
    "        - modular division output is remainder  \n",
    "2.Assingment  \n",
    "    =  \n",
    "3.Comparision  \n",
    "    <,>,<=,>=,==  \n",
    "4.Logical  \n",
    "    and ,or, not              \n",
    "5.Bitwise  \n",
    "    &,|,^   \n",
    "7.Identity operators  \n",
    "    is(==),is not(!=)  \n",
    "8.Membership operators   \n",
    "    in,notin"
   ]
  },
  {
   "cell_type": "markdown",
   "id": "9685b403",
   "metadata": {},
   "source": [
    "## Airthematic operators"
   ]
  },
  {
   "cell_type": "code",
   "execution_count": 3,
   "id": "1c117088",
   "metadata": {},
   "outputs": [
    {
     "name": "stdout",
     "output_type": "stream",
     "text": [
      "addition  15\n",
      "subtraction  -1\n",
      "multiplication  56\n",
      "power  5764801\n",
      "division  0.875\n",
      "int division  0\n",
      "module division  7\n"
     ]
    }
   ],
   "source": [
    "a=7\n",
    "b=8\n",
    "print(\"addition \",a+b)  \n",
    "print(\"subtraction \",a-b)  \n",
    "print(\"multiplication \",a*b)  \n",
    "print(\"power \",a**b)   \n",
    "print(\"division \",a/b)  \n",
    "print(\"int division \",a//b)\n",
    "print(\"module division \",a%b)\n"
   ]
  },
  {
   "cell_type": "markdown",
   "id": "09b33b33",
   "metadata": {},
   "source": [
    "## comparision operator"
   ]
  },
  {
   "cell_type": "code",
   "execution_count": 4,
   "id": "d026eb5f",
   "metadata": {},
   "outputs": [
    {
     "data": {
      "text/plain": [
       "True"
      ]
     },
     "execution_count": 4,
     "metadata": {},
     "output_type": "execute_result"
    }
   ],
   "source": [
    "25>8\n",
    "35<98"
   ]
  },
  {
   "cell_type": "code",
   "execution_count": 5,
   "id": "de37bb6b",
   "metadata": {},
   "outputs": [
    {
     "data": {
      "text/plain": [
       "True"
      ]
     },
     "execution_count": 5,
     "metadata": {},
     "output_type": "execute_result"
    }
   ],
   "source": [
    "35>7"
   ]
  },
  {
   "cell_type": "code",
   "execution_count": 6,
   "id": "2e48bbec",
   "metadata": {},
   "outputs": [
    {
     "data": {
      "text/plain": [
       "False"
      ]
     },
     "execution_count": 6,
     "metadata": {},
     "output_type": "execute_result"
    }
   ],
   "source": [
    "53<7\n"
   ]
  },
  {
   "cell_type": "code",
   "execution_count": 10,
   "id": "49fd0f06",
   "metadata": {},
   "outputs": [
    {
     "name": "stdout",
     "output_type": "stream",
     "text": [
      "c is big\n"
     ]
    }
   ],
   "source": [
    "a=5\n",
    "b=6\n",
    "c=8\n",
    "if a>b and a>c:\n",
    "    print(\"a is big \")\n",
    "else:\n",
    "    print(\"c is big\")"
   ]
  },
  {
   "cell_type": "markdown",
   "id": "c79d15a2",
   "metadata": {},
   "source": [
    "## logical operator\n",
    "- and the inputs are true then the output is true \n",
    "- or in input one condition is true then the output will be true\n",
    "- not if the input true then the ouput is false"
   ]
  },
  {
   "cell_type": "code",
   "execution_count": 11,
   "id": "b485d3ca",
   "metadata": {},
   "outputs": [
    {
     "data": {
      "text/plain": [
       "True"
      ]
     },
     "execution_count": 11,
     "metadata": {},
     "output_type": "execute_result"
    }
   ],
   "source": [
    "# example for and #  \n",
    "5>3 and 6>5\n"
   ]
  },
  {
   "cell_type": "code",
   "execution_count": 12,
   "id": "c20e5353",
   "metadata": {},
   "outputs": [
    {
     "data": {
      "text/plain": [
       "False"
      ]
     },
     "execution_count": 12,
     "metadata": {},
     "output_type": "execute_result"
    }
   ],
   "source": [
    "#example for or #\n",
    "5>6 or 8<0"
   ]
  },
  {
   "cell_type": "code",
   "execution_count": 13,
   "id": "2f8379d1",
   "metadata": {},
   "outputs": [
    {
     "data": {
      "text/plain": [
       "False"
      ]
     },
     "execution_count": 13,
     "metadata": {},
     "output_type": "execute_result"
    }
   ],
   "source": [
    "#example for not #\n",
    "a=19\n",
    "not a"
   ]
  },
  {
   "cell_type": "markdown",
   "id": "ba9e9fd7",
   "metadata": {},
   "source": [
    "## bitwize operator"
   ]
  },
  {
   "cell_type": "code",
   "execution_count": 14,
   "id": "127f12ff",
   "metadata": {},
   "outputs": [
    {
     "data": {
      "text/plain": [
       "2"
      ]
     },
     "execution_count": 14,
     "metadata": {},
     "output_type": "execute_result"
    }
   ],
   "source": [
    "#example for and #\n",
    "2& 3\n"
   ]
  },
  {
   "cell_type": "code",
   "execution_count": 15,
   "id": "04e1d228",
   "metadata": {},
   "outputs": [
    {
     "data": {
      "text/plain": [
       "3"
      ]
     },
     "execution_count": 15,
     "metadata": {},
     "output_type": "execute_result"
    }
   ],
   "source": [
    "#example for or #\n",
    "2|3"
   ]
  },
  {
   "cell_type": "code",
   "execution_count": 16,
   "id": "988fecde",
   "metadata": {},
   "outputs": [
    {
     "data": {
      "text/plain": [
       "6"
      ]
     },
     "execution_count": 16,
     "metadata": {},
     "output_type": "execute_result"
    }
   ],
   "source": [
    "# example for ex-or #\n",
    "2^4"
   ]
  },
  {
   "cell_type": "code",
   "execution_count": 17,
   "id": "d671b4de",
   "metadata": {},
   "outputs": [
    {
     "data": {
      "text/plain": [
       "128"
      ]
     },
     "execution_count": 17,
     "metadata": {},
     "output_type": "execute_result"
    }
   ],
   "source": [
    "#example fro left shift#\n",
    "2<<6"
   ]
  },
  {
   "cell_type": "code",
   "execution_count": 18,
   "id": "d7a67d45",
   "metadata": {},
   "outputs": [
    {
     "data": {
      "text/plain": [
       "0"
      ]
     },
     "execution_count": 18,
     "metadata": {},
     "output_type": "execute_result"
    }
   ],
   "source": [
    "# example for right shift #\n",
    "2>>5"
   ]
  },
  {
   "cell_type": "markdown",
   "id": "9955dda1",
   "metadata": {},
   "source": [
    "## identity operator"
   ]
  },
  {
   "cell_type": "code",
   "execution_count": 21,
   "id": "5830641d",
   "metadata": {},
   "outputs": [
    {
     "name": "stderr",
     "output_type": "stream",
     "text": [
      "<>:2: SyntaxWarning: \"is\" with a literal. Did you mean \"==\"?\n",
      "<>:2: SyntaxWarning: \"is not\" with a literal. Did you mean \"!=\"?\n",
      "<>:2: SyntaxWarning: \"is\" with a literal. Did you mean \"==\"?\n",
      "<>:2: SyntaxWarning: \"is not\" with a literal. Did you mean \"!=\"?\n",
      "C:\\Users\\admin\\AppData\\Local\\Temp/ipykernel_3340/1426518158.py:2: SyntaxWarning: \"is\" with a literal. Did you mean \"==\"?\n",
      "  a is 100 and a is not 100\n",
      "C:\\Users\\admin\\AppData\\Local\\Temp/ipykernel_3340/1426518158.py:2: SyntaxWarning: \"is not\" with a literal. Did you mean \"!=\"?\n",
      "  a is 100 and a is not 100\n"
     ]
    },
    {
     "data": {
      "text/plain": [
       "False"
      ]
     },
     "execution_count": 21,
     "metadata": {},
     "output_type": "execute_result"
    }
   ],
   "source": [
    "# example for identity operator#\n",
    "a is 100 and a is not 100"
   ]
  },
  {
   "cell_type": "code",
   "execution_count": 25,
   "id": "37529832",
   "metadata": {},
   "outputs": [
    {
     "data": {
      "text/plain": [
       "False"
      ]
     },
     "execution_count": 25,
     "metadata": {},
     "output_type": "execute_result"
    }
   ],
   "source": [
    "#rectifiying abopve error #\n",
    "a==100 and a!=100"
   ]
  },
  {
   "cell_type": "markdown",
   "id": "0f0ad9cb",
   "metadata": {},
   "source": [
    "## membership operator"
   ]
  },
  {
   "cell_type": "code",
   "execution_count": 35,
   "id": "1eec6503",
   "metadata": {},
   "outputs": [
    {
     "data": {
      "text/plain": [
       "True"
      ]
     },
     "execution_count": 35,
     "metadata": {},
     "output_type": "execute_result"
    }
   ],
   "source": [
    "#examplae for membership operator #\n",
    "a=[1,2,5,4,7,3,6,9]\n",
    "10 not in   a\n"
   ]
  },
  {
   "cell_type": "code",
   "execution_count": 36,
   "id": "02a4d2f0",
   "metadata": {},
   "outputs": [
    {
     "data": {
      "text/plain": [
       "False"
      ]
     },
     "execution_count": 36,
     "metadata": {},
     "output_type": "execute_result"
    }
   ],
   "source": [
    "4 not in a"
   ]
  },
  {
   "cell_type": "markdown",
   "id": "d7d23f1b",
   "metadata": {},
   "source": [
    "## auto increment  and auto decrement"
   ]
  },
  {
   "cell_type": "code",
   "execution_count": 45,
   "id": "a8f192e2",
   "metadata": {},
   "outputs": [
    {
     "name": "stdout",
     "output_type": "stream",
     "text": [
      "5\n"
     ]
    }
   ],
   "source": [
    "a=4\n",
    "a+=1\n",
    "print(a)\n"
   ]
  },
  {
   "cell_type": "code",
   "execution_count": 46,
   "id": "486ade0d",
   "metadata": {},
   "outputs": [
    {
     "name": "stdout",
     "output_type": "stream",
     "text": [
      "4\n"
     ]
    }
   ],
   "source": [
    "a-=1\n",
    "print(a)\n"
   ]
  },
  {
   "cell_type": "code",
   "execution_count": 47,
   "id": "62e4ec4f",
   "metadata": {},
   "outputs": [
    {
     "name": "stdout",
     "output_type": "stream",
     "text": [
      "4\n"
     ]
    }
   ],
   "source": [
    "\n",
    "a*=1\n",
    "print(a)"
   ]
  },
  {
   "cell_type": "code",
   "execution_count": 48,
   "id": "9e59fb2f",
   "metadata": {},
   "outputs": [
    {
     "name": "stdout",
     "output_type": "stream",
     "text": [
      "4.0\n"
     ]
    }
   ],
   "source": [
    "a/=1\n",
    "print(a)"
   ]
  },
  {
   "cell_type": "markdown",
   "id": "25091955",
   "metadata": {},
   "source": [
    "## control flow  \n",
    "- conditional statements(if,else,elseif,nestedif)  \n",
    "- loops(for,while)   \n",
    "- break,return"
   ]
  },
  {
   "cell_type": "code",
   "execution_count": null,
   "id": "1f650ec4",
   "metadata": {},
   "outputs": [],
   "source": [
    "#in  c-lang\n",
    "if(condition)\n",
    "{\n",
    "    block of code\n",
    "}"
   ]
  },
  {
   "cell_type": "markdown",
   "id": "b7349932",
   "metadata": {},
   "source": [
    "## conditional statements in python"
   ]
  },
  {
   "cell_type": "markdown",
   "id": "848be79e",
   "metadata": {},
   "source": [
    "### syntax for if statement\n",
    "if condition:  \n",
    "        block of statements  \n",
    "    \n",
    "    \n",
    "### syntax for if else statement\n",
    "if condition:  \n",
    "        block of statements  \n",
    "else:  \n",
    "        block of statements  \n",
    "\n",
    "\n",
    "### syantax for elif statement (elseif)  \n",
    "if condition:  \n",
    "        block of statements  \n",
    "else if condition:    \n",
    "        block of statements  \n",
    "else:  \n",
    "        block of statements  \n",
    " \n",
    "\n",
    "    "
   ]
  },
  {
   "cell_type": "code",
   "execution_count": 53,
   "id": "68398fcd",
   "metadata": {},
   "outputs": [
    {
     "name": "stdout",
     "output_type": "stream",
     "text": [
      "enter the a value5\n",
      "the given number  5 is odd\n"
     ]
    }
   ],
   "source": [
    "#given number is even or odd\n",
    "a=int(input(\"enter the a value\"))\n",
    "if (a%2==0):\n",
    "    print(\"the given number \",a,\"is even\")\n",
    "else:\n",
    "    print(\"the given number \",a,\"is odd\")\n",
    "    "
   ]
  },
  {
   "cell_type": "code",
   "execution_count": 55,
   "id": "c2ccdc33",
   "metadata": {},
   "outputs": [
    {
     "name": "stdout",
     "output_type": "stream",
     "text": [
      "enter the value-5\n",
      "the number is negative\n"
     ]
    }
   ],
   "source": [
    "#given number is positive or negative\n",
    "a=int(input(\"enter the value\"))\n",
    "if(a>0):\n",
    "    print(\"the number is positive\")\n",
    "elif(a<0):\n",
    "    print(\"the number is negative\")\n",
    "else:\n",
    "    print(\"the number is zero\")\n",
    "    "
   ]
  },
  {
   "cell_type": "code",
   "execution_count": 60,
   "id": "c8af4776",
   "metadata": {},
   "outputs": [
    {
     "name": "stdout",
     "output_type": "stream",
     "text": [
      "enter the value6\n",
      "the number divisible by 2 only\n"
     ]
    }
   ],
   "source": [
    "# number is two but not 10\n",
    "a=int(input(\"enter the value\"))\n",
    "if(a%2==0):\n",
    "    if(a%10!=0):\n",
    "        print(\"the number divisible by 2 only\")\n",
    "    else:\n",
    "        print(\"the number divisible by both numbers\")\n",
    "else:\n",
    "    print(\"the number not divisible by 2 and 10\")\n"
   ]
  },
  {
   "cell_type": "markdown",
   "id": "0ad9aab4",
   "metadata": {},
   "source": [
    "## range \n",
    "- syntax for the range is(start value,end value)\n",
    "- start value is inclusiove and end value is exclusive "
   ]
  },
  {
   "cell_type": "code",
   "execution_count": 61,
   "id": "7c601a60",
   "metadata": {},
   "outputs": [
    {
     "data": {
      "text/plain": [
       "range(10, 20, 2)"
      ]
     },
     "execution_count": 61,
     "metadata": {},
     "output_type": "execute_result"
    }
   ],
   "source": [
    "range(10,20,1)\n",
    "#11,12,13,14,15,16,17,18,19\n",
    "range(10,30,2)\n",
    "#2,20,21,22,23,24,25,26,27,28.29\n",
    "range(20,1,-1)\n",
    "#19,18,17,16,15,14,13,12,11,10\n",
    "range(10)\n",
    "#it takes as a end value\n",
    "rane(10,30)\n",
    "#it takes a starting and end value"
   ]
  },
  {
   "cell_type": "code",
   "execution_count": 66,
   "id": "bc0d92c1",
   "metadata": {},
   "outputs": [
    {
     "data": {
      "text/plain": [
       "[10, 11, 12, 13, 14, 15, 16, 17, 18, 19]"
      ]
     },
     "execution_count": 66,
     "metadata": {},
     "output_type": "execute_result"
    }
   ],
   "source": [
    "list(range(10,20,1))"
   ]
  },
  {
   "cell_type": "code",
   "execution_count": 65,
   "id": "3920c717",
   "metadata": {},
   "outputs": [
    {
     "data": {
      "text/plain": [
       "[10, 12, 14, 16, 18, 20, 22, 24, 26, 28]"
      ]
     },
     "execution_count": 65,
     "metadata": {},
     "output_type": "execute_result"
    }
   ],
   "source": [
    "list(range(10,30,2))"
   ]
  },
  {
   "cell_type": "code",
   "execution_count": 64,
   "id": "1e4570c6",
   "metadata": {},
   "outputs": [
    {
     "data": {
      "text/plain": [
       "[20, 19, 18, 17, 16, 15, 14, 13, 12, 11, 10, 9, 8, 7, 6, 5, 4, 3, 2]"
      ]
     },
     "execution_count": 64,
     "metadata": {},
     "output_type": "execute_result"
    }
   ],
   "source": [
    "list(range(20,1,-1))"
   ]
  },
  {
   "cell_type": "code",
   "execution_count": 67,
   "id": "6f4e13ed",
   "metadata": {},
   "outputs": [
    {
     "data": {
      "text/plain": [
       "[0, 1, 2, 3, 4, 5, 6, 7, 8, 9]"
      ]
     },
     "execution_count": 67,
     "metadata": {},
     "output_type": "execute_result"
    }
   ],
   "source": [
    "list(range(10))"
   ]
  },
  {
   "cell_type": "code",
   "execution_count": 68,
   "id": "d8204974",
   "metadata": {},
   "outputs": [
    {
     "data": {
      "text/plain": [
       "[10,\n",
       " 11,\n",
       " 12,\n",
       " 13,\n",
       " 14,\n",
       " 15,\n",
       " 16,\n",
       " 17,\n",
       " 18,\n",
       " 19,\n",
       " 20,\n",
       " 21,\n",
       " 22,\n",
       " 23,\n",
       " 24,\n",
       " 25,\n",
       " 26,\n",
       " 27,\n",
       " 28,\n",
       " 29]"
      ]
     },
     "execution_count": 68,
     "metadata": {},
     "output_type": "execute_result"
    }
   ],
   "source": [
    "list(range(10,30))"
   ]
  },
  {
   "cell_type": "markdown",
   "id": "fe2b4c99",
   "metadata": {},
   "source": [
    "## Looping concepts\n",
    "- For loop  \n",
    "      It is used to control the flow the satatememnt that is used to execute a group of statements repeatedly as long as the condition is satisfied such type of statement is also known as an iteractive statement   \n",
    "     "
   ]
  },
  {
   "cell_type": "code",
   "execution_count": null,
   "id": "48af3bb7",
   "metadata": {},
   "outputs": [],
   "source": [
    "#syntax for the for loop\n",
    "for item in iterable: #iterable means range of the function\n",
    "    block of statements "
   ]
  },
  {
   "cell_type": "code",
   "execution_count": 72,
   "id": "9f9043a6",
   "metadata": {},
   "outputs": [
    {
     "name": "stdout",
     "output_type": "stream",
     "text": [
      "0\n",
      "1\n",
      "2\n",
      "3\n",
      "4\n"
     ]
    }
   ],
   "source": [
    "# example program for for loop\n",
    "for i in range(5):\n",
    "    print(i)"
   ]
  },
  {
   "cell_type": "code",
   "execution_count": 74,
   "id": "9361c5fc",
   "metadata": {},
   "outputs": [
    {
     "name": "stdout",
     "output_type": "stream",
     "text": [
      "0,1,2,3,4,5,6,7,8,9,10,11,12,13,14,15,16,17,18,19,20,21,22,23,24,25,26,27,28,29,30,31,32,33,34,35,36,37,38,39,40,41,42,43,44,45,46,47,48,49,50,51,52,53,54,55,56,57,58,59,60,61,62,63,64,65,66,67,68,69,70,71,72,73,74,75,76,77,78,79,80,81,82,83,84,85,86,87,88,89,90,91,92,93,94,95,96,97,98,99,"
     ]
    }
   ],
   "source": [
    "for i in range(100):\n",
    "    print(i,end=\",\")#end is used for seperation with any symbol"
   ]
  },
  {
   "cell_type": "code",
   "execution_count": 81,
   "id": "0bf162bd",
   "metadata": {},
   "outputs": [
    {
     "name": "stdout",
     "output_type": "stream",
     "text": [
      "0 2 4 6 8 10 12 14 16 18 20 22 24 26 28 30 32 34 36 38 40 42 44 46 48 50 52 54 56 58 60 62 64 66 68 70 72 74 76 78 80 82 84 86 88 90 92 94 96 98 100 \n",
      " count of even numbers range 0-101= 51\n"
     ]
    }
   ],
   "source": [
    "#print the even number in the range of 0-100\n",
    "count=0\n",
    "for i in range(0,101,2):\n",
    "        print(i,end=\" \")\n",
    "        count=count+1\n",
    "        \n",
    "print(\"\\n count of even numbers range 0-101=\",count)"
   ]
  },
  {
   "cell_type": "code",
   "execution_count": 85,
   "id": "76590f61",
   "metadata": {},
   "outputs": [
    {
     "name": "stdout",
     "output_type": "stream",
     "text": [
      "0 2 4 6 8 10 12 14 16 18 20 22 24 26 28 30 32 34 36 38 40 42 44 46 48 50 52 54 56 58 60 62 64 66 68 70 72 74 76 78 80 82 84 86 88 90 92 94 96 98 100 \n",
      " count= 51\n"
     ]
    }
   ],
   "source": [
    "count=0\n",
    "for i in range(101):\n",
    "    if(i%2==0):\n",
    "        print(i,end=\" \")\n",
    "        count=count+1\n",
    "print(\"\\n count=\",count)"
   ]
  },
  {
   "cell_type": "code",
   "execution_count": 90,
   "id": "88041deb",
   "metadata": {},
   "outputs": [
    {
     "name": "stdout",
     "output_type": "stream",
     "text": [
      "enter year2000\n",
      "enter range 2020\n",
      "2000 2004 2008 2012 2016 2020 \n",
      " count= 6\n"
     ]
    }
   ],
   "source": [
    "#print leap years from the range of 2000-2020\n",
    "count=0\n",
    "x=int(input(\"enter year\"))\n",
    "y=int(input(\"enter range \"))\n",
    "for i in range(x,y+1):\n",
    "    if(i%400==0) and  (i%100!=0) or (i%4==0):\n",
    "        print(i,end=\" \")\n",
    "        count=count+1\n",
    "print(\"\\n count=\",count)"
   ]
  },
  {
   "cell_type": "code",
   "execution_count": 99,
   "id": "d32e45d8",
   "metadata": {},
   "outputs": [
    {
     "name": "stdout",
     "output_type": "stream",
     "text": [
      "5 * 0 = 0\n",
      "5 * 1 = 5\n",
      "5 * 2 = 10\n",
      "5 * 3 = 15\n",
      "5 * 4 = 20\n",
      "5 * 5 = 25\n",
      "5 * 6 = 30\n",
      "5 * 7 = 35\n",
      "5 * 8 = 40\n",
      "5 * 9 = 45\n",
      "5 * 10 = 50\n"
     ]
    }
   ],
   "source": [
    "#print fifth table\n",
    "n=5\n",
    "for i in range(11):\n",
    "       print(n,\"*\",i,\"=\",n*i)\n"
   ]
  },
  {
   "cell_type": "code",
   "execution_count": 119,
   "id": "50b4bc23",
   "metadata": {},
   "outputs": [
    {
     "name": "stdout",
     "output_type": "stream",
     "text": [
      "enter value100\n",
      "1\n",
      "2\n",
      "4\n",
      "5\n",
      "10\n",
      "20\n",
      "25\n",
      "50\n",
      "100\n"
     ]
    }
   ],
   "source": [
    "#print factors of given numbers \n",
    "n=int(input(\"enter value\"))\n",
    "for i in range(1,n+1):\n",
    "    if(n%i==0):\n",
    "        print(i)\n",
    "        "
   ]
  },
  {
   "cell_type": "code",
   "execution_count": 123,
   "id": "6f051213",
   "metadata": {},
   "outputs": [
    {
     "name": "stdout",
     "output_type": "stream",
     "text": [
      "abc\n",
      "294\n"
     ]
    }
   ],
   "source": [
    "#additoin of ascii values\n",
    "a=input()\n",
    "s=0\n",
    "for i in a:\n",
    "    s=s+ord(i)\n",
    "print(s)"
   ]
  },
  {
   "cell_type": "code",
   "execution_count": 126,
   "id": "7eed33c3",
   "metadata": {},
   "outputs": [
    {
     "name": "stdout",
     "output_type": "stream",
     "text": [
      "enter number2\n",
      "prime number\n"
     ]
    }
   ],
   "source": [
    "#to check prime number\n",
    "f=0\n",
    "num=int(input(\"enter number\"))\n",
    "if(num>1):\n",
    "    for i in range(2,num):\n",
    "        if(num%i==0):\n",
    "            f=1\n",
    "            break\n",
    "if (f==1):\n",
    "    print(\"not a prime\")\n",
    "else:\n",
    "    print(\"prime number\")"
   ]
  },
  {
   "cell_type": "code",
   "execution_count": null,
   "id": "de3f4d17",
   "metadata": {},
   "outputs": [],
   "source": [
    "#print even and odd numbers \n",
    "n=int(input(\"enter number\"))\n",
    "print(\"even numbers are\")\n",
    "for i in range(n+1):\n",
    "    if(i%2==0):\n",
    "        print(i,end=\" \")\n",
    "print(\"\\n odd numbers\")        \n",
    "for i in range(n+1):\n",
    "    if(i%2!=0):\n",
    "        print(i,end=\" \")\n",
    "\n",
    "        "
   ]
  },
  {
   "cell_type": "code",
   "execution_count": null,
   "id": "575dd2f4",
   "metadata": {},
   "outputs": [],
   "source": [
    "\n"
   ]
  },
  {
   "cell_type": "code",
   "execution_count": null,
   "id": "6eecbc07",
   "metadata": {},
   "outputs": [],
   "source": []
  },
  {
   "cell_type": "code",
   "execution_count": null,
   "id": "fdfb0fa3",
   "metadata": {},
   "outputs": [],
   "source": []
  }
 ],
 "metadata": {
  "kernelspec": {
   "display_name": "Python 3 (ipykernel)",
   "language": "python",
   "name": "python3"
  },
  "language_info": {
   "codemirror_mode": {
    "name": "ipython",
    "version": 3
   },
   "file_extension": ".py",
   "mimetype": "text/x-python",
   "name": "python",
   "nbconvert_exporter": "python",
   "pygments_lexer": "ipython3",
   "version": "3.9.7"
  }
 },
 "nbformat": 4,
 "nbformat_minor": 5
}
