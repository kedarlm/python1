{
 "cells": [
  {
   "cell_type": "markdown",
   "id": "56c46f31",
   "metadata": {},
   "source": [
    "# file handling \n",
    "- file: \n",
    "    - file is an named location or memory used to store relative information \n",
    "    - .csv,.py,.html......etc\n",
    "- file hnadling:\n",
    "    - it allows user to handle\n",
    "- compared to other languages programming Languages file handling is easy in python \n",
    "- read and write files along with the othrer files handle options to work on files\n",
    "- steps of the handling :\n",
    "    - open file \n",
    "    - doing operations \n",
    "    - close a file \n",
    "- open function()\n",
    "    - we use open fun() in python to open the frile in read and write options \n",
    "    - to return a object we use in open function() along 2 arguments that are  filename mode\n",
    "    - syntax:\n",
    "        open(filename.mode)\n",
    "- Modes are three types to open a file\n",
    "    - read()------'r'-----> to read a file\n",
    "    - file_variable.read(size)\n",
    "    - write() ------'w'--->to write a file\n",
    "    - file_variable.write(data)\n",
    "    - append()---'a'-----> to add aq information to a  file\n",
    "    - file_variable.append(data)\n",
    "- by default the file will open in 'r' read mode\n",
    "- close()\n",
    "    - it is used to close a file \n",
    "    - every time you have to close a file at the end of the operations otherwise the changes will not be applicable\n"
   ]
  },
  {
   "cell_type": "code",
   "execution_count": 1,
   "id": "47c13298",
   "metadata": {},
   "outputs": [
    {
     "name": "stdout",
     "output_type": "stream",
     "text": [
      "successfully opened\n"
     ]
    }
   ],
   "source": [
    "f=open(\"data.txt\",\"r\")\n",
    "if (f):\n",
    "    print(\"successfully opened\")\n",
    "else:\n",
    "    print(\"not opend\")"
   ]
  },
  {
   "cell_type": "code",
   "execution_count": 3,
   "id": "4f3d5e51",
   "metadata": {},
   "outputs": [
    {
     "name": "stdout",
     "output_type": "stream",
     "text": [
      "hii friends\n"
     ]
    }
   ],
   "source": [
    "#read\n",
    "f=open(\"data.txt\")\n",
    "print(f.read())\n",
    "f.close()"
   ]
  },
  {
   "cell_type": "code",
   "execution_count": 4,
   "id": "1abd91fe",
   "metadata": {},
   "outputs": [
    {
     "name": "stdout",
     "output_type": "stream",
     "text": [
      "hii friends\n"
     ]
    }
   ],
   "source": [
    "with open(\"data.txt\") as f:\n",
    "    jk=f.read()\n",
    "    print(jk)"
   ]
  },
  {
   "cell_type": "code",
   "execution_count": 8,
   "id": "d17b28ca",
   "metadata": {},
   "outputs": [
    {
     "name": "stdout",
     "output_type": "stream",
     "text": [
      "hii f\n"
     ]
    }
   ],
   "source": [
    "with open(\"data.txt\") as f:\n",
    "    jk=f.read(5)\n",
    "    print(jk)\n",
    "    f.close()"
   ]
  },
  {
   "cell_type": "code",
   "execution_count": 11,
   "id": "a86090f3",
   "metadata": {},
   "outputs": [
    {
     "name": "stdout",
     "output_type": "stream",
     "text": [
      "18\n"
     ]
    }
   ],
   "source": [
    "f=open(\"data1.txt\",\"w\")\n",
    "jk=f.write(\"python programming\")\n",
    "print(jk)\n",
    "f.close()"
   ]
  },
  {
   "cell_type": "markdown",
   "id": "06a157d5",
   "metadata": {},
   "source": [
    "## File handling methods\n",
    "- open()\n",
    "- read()\n",
    "- write()\n",
    "- close()\n",
    "- readlines()\n",
    "- readline()\n",
    "- seek()\n",
    "- teli()\n",
    "- types fo modes:\n",
    "    - read()-----'r'\n",
    "    - write()-----'w'\n",
    "    - append()-----'a'\n",
    "    "
   ]
  },
  {
   "cell_type": "code",
   "execution_count": 13,
   "id": "d9630e76",
   "metadata": {},
   "outputs": [],
   "source": [
    "f=open(\"data.txt\")"
   ]
  },
  {
   "cell_type": "code",
   "execution_count": 14,
   "id": "eeae57e2",
   "metadata": {},
   "outputs": [],
   "source": [
    "info=f.read(5)"
   ]
  },
  {
   "cell_type": "code",
   "execution_count": 15,
   "id": "3952785c",
   "metadata": {},
   "outputs": [
    {
     "name": "stdout",
     "output_type": "stream",
     "text": [
      "pytho\n"
     ]
    }
   ],
   "source": [
    "print(info)"
   ]
  },
  {
   "cell_type": "code",
   "execution_count": 16,
   "id": "af783b5f",
   "metadata": {},
   "outputs": [
    {
     "name": "stdout",
     "output_type": "stream",
     "text": [
      "n programming\n"
     ]
    }
   ],
   "source": [
    "k=f.read()\n",
    "print(k)"
   ]
  },
  {
   "cell_type": "code",
   "execution_count": 17,
   "id": "656cba17",
   "metadata": {},
   "outputs": [],
   "source": [
    "f.close()"
   ]
  },
  {
   "cell_type": "markdown",
   "id": "9422d2f9",
   "metadata": {},
   "source": [
    "## write mode\n",
    "- it is used to write something in a file\n",
    "- if file is not there in  directory file will be created and data will be written in that file "
   ]
  },
  {
   "cell_type": "code",
   "execution_count": 19,
   "id": "93a0bcbd",
   "metadata": {},
   "outputs": [],
   "source": [
    "kj=open(\"data.txt\",'w')\n",
    "jk=kj.write(\"course is completed\")\n",
    "kj.close()"
   ]
  },
  {
   "cell_type": "code",
   "execution_count": 3,
   "id": "1024ac7d",
   "metadata": {},
   "outputs": [
    {
     "name": "stdout",
     "output_type": "stream",
     "text": [
      "<_io.TextIOWrapper name='data.txt' mode='a' encoding='cp1252'>\n"
     ]
    }
   ],
   "source": [
    "k=open(\"data.txt\",'a')\n",
    "k.write(\"asfdusfd\")\n",
    "print(k)\n",
    "k.close()"
   ]
  },
  {
   "cell_type": "code",
   "execution_count": 4,
   "id": "ac896b2c",
   "metadata": {},
   "outputs": [
    {
     "name": "stdout",
     "output_type": "stream",
     "text": [
      "course is completedasfdusfdasfdusfd\n"
     ]
    }
   ],
   "source": [
    "f=open(\"data.txt\",'r')\n",
    "s=f.readline()\n",
    "print(s)"
   ]
  },
  {
   "cell_type": "code",
   "execution_count": 5,
   "id": "261afa01",
   "metadata": {},
   "outputs": [
    {
     "name": "stdout",
     "output_type": "stream",
     "text": [
      "['course is completedasfdusfdasfdusfd']\n"
     ]
    }
   ],
   "source": [
    "f=open(\"data.txt\",'r')\n",
    "j=f.readlines()\n",
    "print(j)"
   ]
  },
  {
   "cell_type": "code",
   "execution_count": 9,
   "id": "1e9d4682",
   "metadata": {},
   "outputs": [
    {
     "name": "stdout",
     "output_type": "stream",
     "text": [
      "1\n"
     ]
    }
   ],
   "source": [
    "with open(\"data.txt\",'r') as f:\n",
    "    line=f.readlines()\n",
    "print(len(line))"
   ]
  },
  {
   "cell_type": "code",
   "execution_count": 11,
   "id": "6467d1d6",
   "metadata": {},
   "outputs": [
    {
     "ename": "AttributeError",
     "evalue": "'list' object has no attribute 'split'",
     "output_type": "error",
     "traceback": [
      "\u001b[1;31m---------------------------------------------------------------------------\u001b[0m",
      "\u001b[1;31mAttributeError\u001b[0m                            Traceback (most recent call last)",
      "\u001b[1;32m~\\AppData\\Local\\Temp/ipykernel_2404/2154191170.py\u001b[0m in \u001b[0;36m<module>\u001b[1;34m\u001b[0m\n\u001b[0;32m      2\u001b[0m \u001b[0mwords\u001b[0m\u001b[1;33m=\u001b[0m\u001b[1;36m0\u001b[0m\u001b[1;33m\u001b[0m\u001b[1;33m\u001b[0m\u001b[0m\n\u001b[0;32m      3\u001b[0m \u001b[1;32mfor\u001b[0m \u001b[0mi\u001b[0m \u001b[1;32min\u001b[0m \u001b[0mline\u001b[0m\u001b[1;33m:\u001b[0m\u001b[1;33m\u001b[0m\u001b[1;33m\u001b[0m\u001b[0m\n\u001b[1;32m----> 4\u001b[1;33m     \u001b[0mwords_list\u001b[0m\u001b[1;33m=\u001b[0m\u001b[0mline\u001b[0m\u001b[1;33m.\u001b[0m\u001b[0msplit\u001b[0m\u001b[1;33m(\u001b[0m\u001b[1;33m)\u001b[0m\u001b[1;33m\u001b[0m\u001b[1;33m\u001b[0m\u001b[0m\n\u001b[0m\u001b[0;32m      5\u001b[0m     \u001b[0mwords\u001b[0m\u001b[1;33m+=\u001b[0m\u001b[0mlen\u001b[0m\u001b[1;33m(\u001b[0m\u001b[0mwords_list\u001b[0m\u001b[1;33m)\u001b[0m\u001b[1;33m\u001b[0m\u001b[1;33m\u001b[0m\u001b[0m\n\u001b[0;32m      6\u001b[0m \u001b[0mprint\u001b[0m\u001b[1;33m(\u001b[0m\u001b[1;34m\"no of words:\"\u001b[0m\u001b[1;33m,\u001b[0m\u001b[0mwords\u001b[0m\u001b[1;33m)\u001b[0m\u001b[1;33m\u001b[0m\u001b[1;33m\u001b[0m\u001b[0m\n",
      "\u001b[1;31mAttributeError\u001b[0m: 'list' object has no attribute 'split'"
     ]
    }
   ],
   "source": [
    "#no of words\n",
    "words=0\n",
    "for i in line:\n",
    "    words_list=line.split()\n",
    "    words+=len(words_list)\n",
    "print(\"no of words:\",words)"
   ]
  },
  {
   "cell_type": "code",
   "execution_count": null,
   "id": "60025029",
   "metadata": {},
   "outputs": [],
   "source": []
  }
 ],
 "metadata": {
  "kernelspec": {
   "display_name": "Python 3 (ipykernel)",
   "language": "python",
   "name": "python3"
  },
  "language_info": {
   "codemirror_mode": {
    "name": "ipython",
    "version": 3
   },
   "file_extension": ".py",
   "mimetype": "text/x-python",
   "name": "python",
   "nbconvert_exporter": "python",
   "pygments_lexer": "ipython3",
   "version": "3.9.7"
  }
 },
 "nbformat": 4,
 "nbformat_minor": 5
}
