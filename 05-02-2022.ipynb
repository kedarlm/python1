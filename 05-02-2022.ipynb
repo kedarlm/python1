{
 "cells": [
  {
   "cell_type": "markdown",
   "id": "89eff0a6",
   "metadata": {},
   "source": [
    "# file handling \n",
    "- file: \n",
    "    - file is an named location or memory used to store relative information \n",
    "    - .csv,.py,.html......etc\n",
    "- file hnadling:\n",
    "    - it allows user to handle\n",
    "- compared to other languages programming Languages file handling is easy in python \n",
    "- read and write files along with the othrer files handle options to work on files\n",
    "- steps of the handling :\n",
    "    - open file \n",
    "    - doing operations \n",
    "    - close a file \n",
    "- open function()\n",
    "    - we use open fun() in python to open the frile in read and write options \n",
    "    - to return a object we use in open function() along 2 arguments that are  filename mode\n",
    "    - syntax:\n",
    "        open(filename.mode)\n",
    "- Modes are three types to open a file\n",
    "    - read()------'r'-----> to read a file\n",
    "    - file_variable.read(size)\n",
    "    - write() ------'w'--->to write a file\n",
    "    - file_variable.write(data)\n",
    "    - append()---'a'-----> to add aq information to a  file\n",
    "    - file_variable.append(data)\n",
    "- by default the file will open in 'r' read mode\n",
    "- close()\n",
    "    - it is used to close a file \n",
    "    - every time you have to close a file at the end of the operations otherwise the changes will not be applicable\n"
   ]
  },
  {
   "cell_type": "code",
   "execution_count": 1,
   "id": "3a52804e",
   "metadata": {},
   "outputs": [
    {
     "name": "stdout",
     "output_type": "stream",
     "text": [
      "successfully opened\n"
     ]
    }
   ],
   "source": [
    "f=open(\"data.txt\",\"r\")\n",
    "if (f):\n",
    "    print(\"successfully opened\")\n",
    "else:\n",
    "    print(\"not opend\")"
   ]
  },
  {
   "cell_type": "code",
   "execution_count": 3,
   "id": "1ffd32b5",
   "metadata": {},
   "outputs": [
    {
     "name": "stdout",
     "output_type": "stream",
     "text": [
      "hii friends\n"
     ]
    }
   ],
   "source": [
    "#read\n",
    "f=open(\"data.txt\")\n",
    "print(f.read())\n",
    "f.close()"
   ]
  },
  {
   "cell_type": "code",
   "execution_count": 4,
   "id": "1bfecd9b",
   "metadata": {},
   "outputs": [
    {
     "name": "stdout",
     "output_type": "stream",
     "text": [
      "hii friends\n"
     ]
    }
   ],
   "source": [
    "with open(\"data.txt\") as f:\n",
    "    jk=f.read()\n",
    "    print(jk)"
   ]
  },
  {
   "cell_type": "code",
   "execution_count": 8,
   "id": "45d72e52",
   "metadata": {},
   "outputs": [
    {
     "name": "stdout",
     "output_type": "stream",
     "text": [
      "hii f\n"
     ]
    }
   ],
   "source": [
    "with open(\"data.txt\") as f:\n",
    "    jk=f.read(5)\n",
    "    print(jk)\n",
    "    f.close()"
   ]
  },
  {
   "cell_type": "code",
   "execution_count": 11,
   "id": "184f40a5",
   "metadata": {},
   "outputs": [
    {
     "name": "stdout",
     "output_type": "stream",
     "text": [
      "18\n"
     ]
    }
   ],
   "source": [
    "f=open(\"data1.txt\",\"w\")\n",
    "jk=f.write(\"python programming\")\n",
    "print(jk)\n",
    "f.close()"
   ]
  },
  {
   "cell_type": "markdown",
   "id": "bca8e567",
   "metadata": {},
   "source": [
    "## File handling methods\n",
    "- open()\n",
    "- read()\n",
    "- write()\n",
    "- close()\n",
    "- readlines()\n",
    "- readline()\n",
    "- seek()\n",
    "- teli()\n",
    "- types fo modes:\n",
    "    - read()-----'r'\n",
    "    - write()-----'w'\n",
    "    - append()-----'a'\n",
    "    "
   ]
  },
  {
   "cell_type": "code",
   "execution_count": 13,
   "id": "c77e02a6",
   "metadata": {},
   "outputs": [],
   "source": [
    "f=open(\"data.txt\")"
   ]
  },
  {
   "cell_type": "code",
   "execution_count": 14,
   "id": "1cca9c9f",
   "metadata": {},
   "outputs": [],
   "source": [
    "info=f.read(5)"
   ]
  },
  {
   "cell_type": "code",
   "execution_count": 15,
   "id": "5e0c3d73",
   "metadata": {},
   "outputs": [
    {
     "name": "stdout",
     "output_type": "stream",
     "text": [
      "pytho\n"
     ]
    }
   ],
   "source": [
    "print(info)"
   ]
  },
  {
   "cell_type": "code",
   "execution_count": 16,
   "id": "9d99446d",
   "metadata": {},
   "outputs": [
    {
     "name": "stdout",
     "output_type": "stream",
     "text": [
      "n programming\n"
     ]
    }
   ],
   "source": [
    "k=f.read()\n",
    "print(k)"
   ]
  },
  {
   "cell_type": "code",
   "execution_count": 17,
   "id": "d2f153cb",
   "metadata": {},
   "outputs": [],
   "source": [
    "f.close()"
   ]
  },
  {
   "cell_type": "markdown",
   "id": "9a7ea927",
   "metadata": {},
   "source": [
    "## write mode\n",
    "- it is used to write something in a file\n",
    "- if file is not there in  directory file will be created and data will be written in that file "
   ]
  },
  {
   "cell_type": "code",
   "execution_count": 19,
   "id": "2f0b51c3",
   "metadata": {},
   "outputs": [],
   "source": [
    "kj=open(\"data.txt\",'w')\n",
    "jk=kj.write(\"course is completed\")\n",
    "kj.close()"
   ]
  },
  {
   "cell_type": "code",
   "execution_count": 3,
   "id": "496e28e7",
   "metadata": {},
   "outputs": [
    {
     "name": "stdout",
     "output_type": "stream",
     "text": [
      "<_io.TextIOWrapper name='data.txt' mode='a' encoding='cp1252'>\n"
     ]
    }
   ],
   "source": [
    "k=open(\"data.txt\",'a')\n",
    "k.write(\"asfdusfd\")\n",
    "print(k)\n",
    "k.close()"
   ]
  },
  {
   "cell_type": "code",
   "execution_count": 4,
   "id": "94c9f346",
   "metadata": {},
   "outputs": [
    {
     "name": "stdout",
     "output_type": "stream",
     "text": [
      "course is completedasfdusfdasfdusfd\n"
     ]
    }
   ],
   "source": [
    "f=open(\"data.txt\",'r')\n",
    "s=f.readline()\n",
    "print(s)"
   ]
  },
  {
   "cell_type": "code",
   "execution_count": 5,
   "id": "98914884",
   "metadata": {},
   "outputs": [
    {
     "name": "stdout",
     "output_type": "stream",
     "text": [
      "['course is completedasfdusfdasfdusfd']\n"
     ]
    }
   ],
   "source": [
    "f=open(\"data.txt\",'r')\n",
    "j=f.readlines()\n",
    "print(j)"
   ]
  },
  {
   "cell_type": "code",
   "execution_count": 1,
   "id": "803d1695",
   "metadata": {},
   "outputs": [
    {
     "name": "stdout",
     "output_type": "stream",
     "text": [
      "1\n"
     ]
    }
   ],
   "source": [
    "with open(\"data.txt\",'r') as f:\n",
    "    line=f.readlines()\n",
    "print(len(line))"
   ]
  },
  {
   "cell_type": "code",
   "execution_count": 2,
   "id": "b686b36e",
   "metadata": {},
   "outputs": [
    {
     "ename": "AttributeError",
     "evalue": "'list' object has no attribute 'split'",
     "output_type": "error",
     "traceback": [
      "\u001b[1;31m---------------------------------------------------------------------------\u001b[0m",
      "\u001b[1;31mAttributeError\u001b[0m                            Traceback (most recent call last)",
      "\u001b[1;32m~\\AppData\\Local\\Temp/ipykernel_1908/2154191170.py\u001b[0m in \u001b[0;36m<module>\u001b[1;34m\u001b[0m\n\u001b[0;32m      2\u001b[0m \u001b[0mwords\u001b[0m\u001b[1;33m=\u001b[0m\u001b[1;36m0\u001b[0m\u001b[1;33m\u001b[0m\u001b[1;33m\u001b[0m\u001b[0m\n\u001b[0;32m      3\u001b[0m \u001b[1;32mfor\u001b[0m \u001b[0mi\u001b[0m \u001b[1;32min\u001b[0m \u001b[0mline\u001b[0m\u001b[1;33m:\u001b[0m\u001b[1;33m\u001b[0m\u001b[1;33m\u001b[0m\u001b[0m\n\u001b[1;32m----> 4\u001b[1;33m     \u001b[0mwords_list\u001b[0m\u001b[1;33m=\u001b[0m\u001b[0mline\u001b[0m\u001b[1;33m.\u001b[0m\u001b[0msplit\u001b[0m\u001b[1;33m(\u001b[0m\u001b[1;33m)\u001b[0m\u001b[1;33m\u001b[0m\u001b[1;33m\u001b[0m\u001b[0m\n\u001b[0m\u001b[0;32m      5\u001b[0m     \u001b[0mwords\u001b[0m\u001b[1;33m+=\u001b[0m\u001b[0mlen\u001b[0m\u001b[1;33m(\u001b[0m\u001b[0mwords_list\u001b[0m\u001b[1;33m)\u001b[0m\u001b[1;33m\u001b[0m\u001b[1;33m\u001b[0m\u001b[0m\n\u001b[0;32m      6\u001b[0m \u001b[0mprint\u001b[0m\u001b[1;33m(\u001b[0m\u001b[1;34m\"no of words:\"\u001b[0m\u001b[1;33m,\u001b[0m\u001b[0mwords\u001b[0m\u001b[1;33m)\u001b[0m\u001b[1;33m\u001b[0m\u001b[1;33m\u001b[0m\u001b[0m\n",
      "\u001b[1;31mAttributeError\u001b[0m: 'list' object has no attribute 'split'"
     ]
    }
   ],
   "source": [
    "#no of words\n",
    "words=0\n",
    "for i in line:\n",
    "    words_list=line.split()\n",
    "    words+=len(words_list)\n",
    "print(\"no of words:\",words)"
   ]
  },
  {
   "cell_type": "markdown",
   "id": "b53556e4",
   "metadata": {},
   "source": [
    "## Functions\n",
    "- built in functions\n",
    "    - already existed  \n",
    "        ex: print(),input()\n",
    "- user defined functions\n",
    "    - which are created by the user  \n",
    "         ex: any user can creat6e n"
   ]
  },
  {
   "cell_type": "code",
   "execution_count": null,
   "id": "98776f79",
   "metadata": {},
   "outputs": [],
   "source": [
    " #syntax for function :\n",
    "    - def functionname(arguments):  \n",
    "          block of statements"
   ]
  },
  {
   "cell_type": "code",
   "execution_count": null,
   "id": "fe186a12",
   "metadata": {},
   "outputs": [],
   "source": [
    "#function calling:\n",
    "functionname(arguments)"
   ]
  },
  {
   "cell_type": "code",
   "execution_count": 4,
   "id": "f3b4c8d5",
   "metadata": {},
   "outputs": [],
   "source": [
    "#prime number or not\n",
    "def prime(num):\n",
    "    f=0\n",
    "    if(num>1):\n",
    "        for i in range(2,num):\n",
    "            if(num%i==0):\n",
    "                f=1\n",
    "                break\n",
    "    if (f==1):\n",
    "        print(\"not a prime\")\n",
    "    else:\n",
    "        print(\"prime number\")"
   ]
  },
  {
   "cell_type": "code",
   "execution_count": 5,
   "id": "9b2b4c0b",
   "metadata": {},
   "outputs": [
    {
     "name": "stdout",
     "output_type": "stream",
     "text": [
      "enter number5\n",
      "prime number\n"
     ]
    }
   ],
   "source": [
    "prime(int(input(\"enter number\")))"
   ]
  },
  {
   "cell_type": "code",
   "execution_count": 9,
   "id": "edeef10b",
   "metadata": {},
   "outputs": [
    {
     "data": {
      "text/plain": [
       "True"
      ]
     },
     "execution_count": 9,
     "metadata": {},
     "output_type": "execute_result"
    }
   ],
   "source": [
    "def is_prime(n):\n",
    "    for i in range(3,n+1):\n",
    "        if n%3==0:\n",
    "            return False\n",
    "        return True\n",
    "is_prime(7)\n"
   ]
  },
  {
   "cell_type": "code",
   "execution_count": 22,
   "id": "929b5a05",
   "metadata": {},
   "outputs": [],
   "source": [
    "#pefect number or not \n",
    "def perfect(a):\n",
    "    p=0\n",
    "    for i in range(1,a):\n",
    "        if a%i==0:\n",
    "           p=p+i\n",
    "    if p==a:\n",
    "        print(\"the number is perfect\")\n",
    "    else:\n",
    "        print(\"the number is not perfect\")\n"
   ]
  },
  {
   "cell_type": "code",
   "execution_count": 23,
   "id": "8a5c2a27",
   "metadata": {},
   "outputs": [
    {
     "name": "stdout",
     "output_type": "stream",
     "text": [
      "the number is perfect\n"
     ]
    }
   ],
   "source": [
    "perfect(6)"
   ]
  },
  {
   "cell_type": "markdown",
   "id": "dc84ce43",
   "metadata": {},
   "source": [
    "## comprehensions\n",
    "- it is a program of creating new sequence from existing sequence\n",
    "- advantages  \n",
    "    - less code\n",
    "    - easy to understand\n",
    "## types:\n",
    "- list comprehensions \n",
    "- dictionary comprehensions\n",
    "- set comprehensions\n",
    "- generator comprehensions\n",
    "## list comprehensions \n",
    "- easy way to create,more efficient, and also run faster \n",
    "- syntac:[expression for the item in list if condition]"
   ]
  },
  {
   "cell_type": "code",
   "execution_count": null,
   "id": "36e3a1d8",
   "metadata": {},
   "outputs": [],
   "source": [
    "# normal list syntax:\n",
    "for item in list:\n",
    "    if contion:\n",
    "        print()"
   ]
  },
  {
   "cell_type": "code",
   "execution_count": 25,
   "id": "62835ad8",
   "metadata": {},
   "outputs": [
    {
     "name": "stdout",
     "output_type": "stream",
     "text": [
      "1 2 3 4 5 6 7 8 9 10 "
     ]
    }
   ],
   "source": [
    "for i in range (1,11):\n",
    "    print(i,end=\" \")"
   ]
  },
  {
   "cell_type": "code",
   "execution_count": 28,
   "id": "33dec845",
   "metadata": {},
   "outputs": [
    {
     "name": "stdout",
     "output_type": "stream",
     "text": [
      "[1, 2, 3, 4, 5, 6, 7, 8, 9, 10]\n"
     ]
    }
   ],
   "source": [
    "li=[]\n",
    "for i in range(1,11):\n",
    "    li.append(i)\n",
    "print(li)"
   ]
  },
  {
   "cell_type": "code",
   "execution_count": 29,
   "id": "76fc8d4a",
   "metadata": {},
   "outputs": [
    {
     "name": "stdout",
     "output_type": "stream",
     "text": [
      "[1, 2, 3, 4, 5, 6, 7, 8, 9, 10]\n"
     ]
    }
   ],
   "source": [
    "li=[i for i in range(1,11)]\n",
    "print(li)"
   ]
  },
  {
   "cell_type": "code",
   "execution_count": 31,
   "id": "aef62ac3",
   "metadata": {},
   "outputs": [
    {
     "name": "stdout",
     "output_type": "stream",
     "text": [
      "[5, 10, 15, 20, 25, 30, 35, 40, 45, 50]\n"
     ]
    }
   ],
   "source": [
    "li=[i*5 for i in range(1,11)]\n",
    "print(li)"
   ]
  },
  {
   "cell_type": "code",
   "execution_count": 32,
   "id": "79b35a6f",
   "metadata": {},
   "outputs": [
    {
     "name": "stdout",
     "output_type": "stream",
     "text": [
      "[2, 4, 6, 8, 10]\n"
     ]
    }
   ],
   "source": [
    "li=[i for i in range(1,11) if (i%2==0)]\n",
    "print(li)"
   ]
  },
  {
   "cell_type": "code",
   "execution_count": 33,
   "id": "5edda88f",
   "metadata": {},
   "outputs": [
    {
     "name": "stdout",
     "output_type": "stream",
     "text": [
      "['odd', 2, 'odd', 4, 'odd', 6, 'odd', 8, 'odd', 10]\n"
     ]
    }
   ],
   "source": [
    "li=([i if i%2==0 else \"odd\" for i in range(1,11)])\n",
    "print(li)"
   ]
  },
  {
   "cell_type": "code",
   "execution_count": 34,
   "id": "f47e0fee",
   "metadata": {},
   "outputs": [
    {
     "name": "stdout",
     "output_type": "stream",
     "text": [
      "[(1, 'odd'), (2, 'even'), (3, 'odd'), (4, 'even'), (5, 'odd'), (6, 'even'), (7, 'odd'), (8, 'even'), (9, 'odd'), (10, 'even')]\n"
     ]
    }
   ],
   "source": [
    "print([(i,\"even\") if i%2==0 else (i,\"odd\") for i in range(1,11)])"
   ]
  },
  {
   "cell_type": "code",
   "execution_count": 35,
   "id": "eccf584d",
   "metadata": {},
   "outputs": [
    {
     "name": "stdout",
     "output_type": "stream",
     "text": [
      "['stay', 'home', 'stay', 'safe', 'to', 'python', 'class']\n"
     ]
    }
   ],
   "source": [
    "a=['stay home','stay safe','to python class']\n",
    "li=[]\n",
    "for i in a:\n",
    "    for j in i.split():\n",
    "        li.append(j)\n",
    "print(li)"
   ]
  },
  {
   "cell_type": "code",
   "execution_count": 38,
   "id": "0a072832",
   "metadata": {},
   "outputs": [
    {
     "name": "stdout",
     "output_type": "stream",
     "text": [
      "['stay', 'home', 'stay', 'safe', 'to', 'python', 'class']\n"
     ]
    }
   ],
   "source": [
    "x=[j for i in a for j in i.split()]\n",
    "print(x)"
   ]
  },
  {
   "cell_type": "code",
   "execution_count": 44,
   "id": "4b97b690",
   "metadata": {},
   "outputs": [
    {
     "data": {
      "text/plain": [
       "[[1, 2, 3, 4, 5, 6, 7, 8, 9, 10],\n",
       " [2, 4, 6, 8, 10, 12, 14, 16, 18, 20],\n",
       " [3, 6, 9, 12, 15, 18, 21, 24, 27, 30],\n",
       " [4, 8, 12, 16, 20, 24, 28, 32, 36, 40],\n",
       " [5, 10, 15, 20, 25, 30, 35, 40, 45, 50],\n",
       " [6, 12, 18, 24, 30, 36, 42, 48, 54, 60],\n",
       " [7, 14, 21, 28, 35, 42, 49, 56, 63, 70],\n",
       " [8, 16, 24, 32, 40, 48, 56, 64, 72, 80],\n",
       " [9, 18, 27, 36, 45, 54, 63, 72, 81, 90],\n",
       " [10, 20, 30, 40, 50, 60, 70, 80, 90, 100]]"
      ]
     },
     "execution_count": 44,
     "metadata": {},
     "output_type": "execute_result"
    }
   ],
   "source": [
    "li=[[i*j for i in range(1,11)] for j in range(1,11)]\n",
    "li"
   ]
  },
  {
   "cell_type": "code",
   "execution_count": 46,
   "id": "1b91340f",
   "metadata": {},
   "outputs": [
    {
     "name": "stdout",
     "output_type": "stream",
     "text": [
      "{'k': 'm', 'j': 'n', 'l': 'o'}\n"
     ]
    }
   ],
   "source": [
    "#dictionary comprehemsions\n",
    "id_no=['k','j','l']\n",
    "names=['m','n','o']\n",
    "c={}\n",
    "for(key,value)in zip(id_no,names):\n",
    "    c[key]=value\n",
    "print(c)"
   ]
  },
  {
   "cell_type": "code",
   "execution_count": 47,
   "id": "5e87f0d1",
   "metadata": {},
   "outputs": [
    {
     "data": {
      "text/plain": [
       "{1: 2, 2: 4, 3: 6, 4: 8, 5: 10, 6: 12, 7: 14, 8: 16, 9: 18, 10: 20}"
      ]
     },
     "execution_count": 47,
     "metadata": {},
     "output_type": "execute_result"
    }
   ],
   "source": [
    "d={i:i*2 for i in range(1,11)}\n",
    "d"
   ]
  },
  {
   "cell_type": "code",
   "execution_count": 50,
   "id": "fcf9a170",
   "metadata": {},
   "outputs": [
    {
     "data": {
      "text/plain": [
       "{'o': 1, 'r': 1, 'u': 1, 'q': 1, 'l': 1}"
      ]
     },
     "execution_count": 50,
     "metadata": {},
     "output_type": "execute_result"
    }
   ],
   "source": [
    "li=['o','r','u','q','l']\n",
    "{i:li.count(i)for i in li}"
   ]
  },
  {
   "cell_type": "code",
   "execution_count": 59,
   "id": "fa7dc0f5",
   "metadata": {},
   "outputs": [
    {
     "name": "stdout",
     "output_type": "stream",
     "text": [
      "{0: 'A', 1: 'B', 2: 'C', 3: 'D', 4: 'E', 5: 'F', 6: 'G', 7: 'H', 8: 'I', 9: 'J', 10: 'K', 11: 'L', 12: 'M', 13: 'N', 14: 'O', 15: 'P', 16: 'Q', 17: 'R', 18: 'S', 19: 'T', 20: 'U', 21: 'V', 22: 'W', 23: 'X', 24: 'Y', 25: 'Z'}\n"
     ]
    }
   ],
   "source": [
    " d={i:chr(65+i)for i in range (26)}\n",
    "print(d)"
   ]
  },
  {
   "cell_type": "code",
   "execution_count": 58,
   "id": "6854b7f1",
   "metadata": {},
   "outputs": [
    {
     "name": "stdout",
     "output_type": "stream",
     "text": [
      "{0: 'a', 1: 'b', 2: 'c', 3: 'd', 4: 'e', 5: 'f', 6: 'g', 7: 'h', 8: 'i', 9: 'j', 10: 'k', 11: 'l', 12: 'm', 13: 'n', 14: 'o', 15: 'p', 16: 'q', 17: 'r', 18: 's', 19: 't', 20: 'u', 21: 'v', 22: 'w', 23: 'x', 24: 'y', 25: 'z'}\n"
     ]
    }
   ],
   "source": [
    "d={i:chr(97+i)for i in range (26)}\n",
    "print(d)"
   ]
  },
  {
   "cell_type": "code",
   "execution_count": 62,
   "id": "9571e9a4",
   "metadata": {},
   "outputs": [
    {
     "name": "stdout",
     "output_type": "stream",
     "text": [
      "{'kedar': 5, 'manikanta': 9, 'kishore': 7}\n"
     ]
    }
   ],
   "source": [
    "#size of given names\n",
    "names=['kedar','manikanta','kishore']\n",
    "d={i:len(i)for i in names}\n",
    "print(d)"
   ]
  },
  {
   "cell_type": "code",
   "execution_count": 63,
   "id": "7033db37",
   "metadata": {},
   "outputs": [
    {
     "data": {
      "text/plain": [
       "{6, 12, 18, 24, 30}"
      ]
     },
     "execution_count": 63,
     "metadata": {},
     "output_type": "execute_result"
    }
   ],
   "source": [
    "# set comprehension\n",
    "s={i*3 for i in range(1,11) if i%2==0}\n",
    "s"
   ]
  },
  {
   "cell_type": "code",
   "execution_count": 64,
   "id": "7fdb41dd",
   "metadata": {},
   "outputs": [
    {
     "data": {
      "text/plain": [
       "{6, 12, 18, 24}"
      ]
     },
     "execution_count": 64,
     "metadata": {},
     "output_type": "execute_result"
    }
   ],
   "source": [
    "s={i*3 for i in [1,2,3,4,5,6,7,8,9] if i%2==0}\n",
    "s"
   ]
  },
  {
   "cell_type": "code",
   "execution_count": 65,
   "id": "110a5e51",
   "metadata": {},
   "outputs": [
    {
     "data": {
      "text/plain": [
       "<generator object <genexpr> at 0x000000F51F5F5200>"
      ]
     },
     "execution_count": 65,
     "metadata": {},
     "output_type": "execute_result"
    }
   ],
   "source": [
    "#generate comprehension\n",
    "c=(i*3 for i in  range (5))\n",
    "c"
   ]
  },
  {
   "cell_type": "markdown",
   "id": "137b1c45",
   "metadata": {},
   "source": [
    "## Iterators and generators\n",
    "### Iteration:\n",
    "- Iter is an object in python it contains no elements\n",
    "- there are two methods\n",
    "    1.Iter  \n",
    "    2.Next\n",
    "- List,set,tuple,dictionary these all are iterable objects "
   ]
  },
  {
   "cell_type": "code",
   "execution_count": 70,
   "id": "0e8543ac",
   "metadata": {},
   "outputs": [
    {
     "name": "stdout",
     "output_type": "stream",
     "text": [
      "p\n",
      "y\n",
      "t\n",
      "h\n",
      "o\n",
      "n\n"
     ]
    }
   ],
   "source": [
    "s=iter(\"python\")\n",
    "for i in s:\n",
    "    print(i)"
   ]
  },
  {
   "cell_type": "code",
   "execution_count": 69,
   "id": "35ffeba9",
   "metadata": {},
   "outputs": [
    {
     "name": "stdout",
     "output_type": "stream",
     "text": [
      "<str_iterator object at 0x000000F51F530E20>\n",
      "p\n",
      "y\n",
      "t\n",
      "h\n"
     ]
    }
   ],
   "source": [
    "s=iter(\"python\")\n",
    "print(s)\n",
    "print(next(s))\n",
    "print(next(s))\n",
    "print(next(s))\n",
    "print(next(s))"
   ]
  },
  {
   "cell_type": "markdown",
   "id": "cff7173a",
   "metadata": {},
   "source": [
    "### genarators:\n",
    "- Generator can be used to either functions or comprehension\n",
    "- It returns a iterator or objects\n",
    "- In generator **\"yield\"** can be used in place of return"
   ]
  },
  {
   "cell_type": "code",
   "execution_count": 71,
   "id": "52fe76d3",
   "metadata": {},
   "outputs": [
    {
     "data": {
      "text/plain": [
       "'e'"
      ]
     },
     "execution_count": 71,
     "metadata": {},
     "output_type": "execute_result"
    }
   ],
   "source": [
    "def python():\n",
    "    return 'e'\n",
    "    print(\"place\")\n",
    "python()"
   ]
  },
  {
   "cell_type": "code",
   "execution_count": 72,
   "id": "9cd2ce7d",
   "metadata": {},
   "outputs": [
    {
     "name": "stdout",
     "output_type": "stream",
     "text": [
      "mango\n",
      "program\n",
      "sdc\n"
     ]
    }
   ],
   "source": [
    "def python():\n",
    "    yield 'mango'\n",
    "    yield \"program\"\n",
    "    yield 'sdc'\n",
    "for ch in python ():\n",
    "    print(ch)"
   ]
  },
  {
   "cell_type": "markdown",
   "id": "a86e3c2d",
   "metadata": {},
   "source": [
    "## Functional programing \n",
    "- lambda \n",
    "- map\n",
    "- filter\n",
    "- reduce"
   ]
  },
  {
   "cell_type": "markdown",
   "id": "a39fb91e",
   "metadata": {},
   "source": [
    "### lambda\n",
    "- it is a anonymous function or single line function\n",
    "- single expression ,no of arguments \n",
    "- syntax:: lambda arguments:expression"
   ]
  },
  {
   "cell_type": "code",
   "execution_count": 73,
   "id": "a8c93bc0",
   "metadata": {},
   "outputs": [
    {
     "data": {
      "text/plain": [
       "9"
      ]
     },
     "execution_count": 73,
     "metadata": {},
     "output_type": "execute_result"
    }
   ],
   "source": [
    "#example for lambda \n",
    "def add(a,b):\n",
    "    return a+b\n",
    "add(4,5)"
   ]
  },
  {
   "cell_type": "code",
   "execution_count": 74,
   "id": "3600e5eb",
   "metadata": {},
   "outputs": [
    {
     "name": "stdout",
     "output_type": "stream",
     "text": [
      "4 5\n"
     ]
    }
   ],
   "source": [
    "b=lambda a,b:a+b\n",
    "print(4,5)"
   ]
  },
  {
   "cell_type": "markdown",
   "id": "c5dee600",
   "metadata": {},
   "source": [
    "### Map :\n",
    "- syntax:: map(function.iterable)"
   ]
  },
  {
   "cell_type": "code",
   "execution_count": 78,
   "id": "8b80714c",
   "metadata": {},
   "outputs": [
    {
     "data": {
      "text/plain": [
       "{2, 4, 6, 8}"
      ]
     },
     "execution_count": 78,
     "metadata": {},
     "output_type": "execute_result"
    }
   ],
   "source": [
    "s=set(map(lambda i:i*2,[1,2,3,4]))\n",
    "s"
   ]
  },
  {
   "cell_type": "code",
   "execution_count": 88,
   "id": "17190837",
   "metadata": {},
   "outputs": [],
   "source": [
    "def mul(i):\n",
    "    return i*3\n"
   ]
  },
  {
   "cell_type": "code",
   "execution_count": 89,
   "id": "488a4746",
   "metadata": {},
   "outputs": [
    {
     "name": "stdout",
     "output_type": "stream",
     "text": [
      "[3, 6, 9, 12, 15, 18]\n"
     ]
    }
   ],
   "source": [
    "li=list(map(mul,[1,2,3,4,5,6]))\n",
    "print(li)"
   ]
  },
  {
   "cell_type": "code",
   "execution_count": null,
   "id": "23d8c83b",
   "metadata": {},
   "outputs": [],
   "source": []
  }
 ],
 "metadata": {
  "kernelspec": {
   "display_name": "Python 3 (ipykernel)",
   "language": "python",
   "name": "python3"
  },
  "language_info": {
   "codemirror_mode": {
    "name": "ipython",
    "version": 3
   },
   "file_extension": ".py",
   "mimetype": "text/x-python",
   "name": "python",
   "nbconvert_exporter": "python",
   "pygments_lexer": "ipython3",
   "version": "3.9.7"
  }
 },
 "nbformat": 4,
 "nbformat_minor": 5
}
